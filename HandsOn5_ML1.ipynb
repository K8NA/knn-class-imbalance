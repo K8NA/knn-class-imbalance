{
 "cells": [
  {
   "cell_type": "code",
   "execution_count": 6,
   "id": "c43e3709-472f-4d36-a800-28dadbd4e5f4",
   "metadata": {},
   "outputs": [],
   "source": [
    "import pandas as pd\n",
    "import numpy as np\n",
    "import seaborn as sns\n",
    "from sklearn.datasets import fetch_openml\n",
    "from sklearn.model_selection import train_test_split, GridSearchCV\n",
    "from sklearn.linear_model import LinearRegression, \\\n",
    "    Ridge, Lasso, SGDRegressor\n",
    "from sklearn.metrics import r2_score, mean_squared_error, \\\n",
    "    mean_absolute_error, PredictionErrorDisplay\n",
    "from sklearn.preprocessing import StandardScaler\n",
    "from sklearn.pipeline import Pipeline\n",
    "from sklearn.tree import DecisionTreeRegressor, plot_tree"
   ]
  },
  {
   "cell_type": "code",
   "execution_count": 8,
   "id": "d9cead8d-5e48-47ce-b0a0-da554ab20d39",
   "metadata": {},
   "outputs": [],
   "source": [
    "boston = pd.read_csv('Boston.csv')\n",
    "X = boston.drop('MEDV',axis=1)\n",
    "y = boston['MEDV']"
   ]
  },
  {
   "cell_type": "code",
   "execution_count": 10,
   "id": "f8f4d934-166e-4944-aa56-8fb05bb98174",
   "metadata": {},
   "outputs": [
    {
     "data": {
      "text/plain": [
       "(506, 13)"
      ]
     },
     "execution_count": 10,
     "metadata": {},
     "output_type": "execute_result"
    }
   ],
   "source": [
    "X.shape"
   ]
  },
  {
   "cell_type": "code",
   "execution_count": 12,
   "id": "5cbd7d3f-d038-4e83-9f67-26916fd363bc",
   "metadata": {},
   "outputs": [
    {
     "data": {
      "text/plain": [
       "Index(['CRIM', 'ZN', 'INDUS', 'CHAS', 'NOX', 'RM', 'AGE', 'DIS', 'RAD', 'TAX',\n",
       "       'PTRATIO', 'B', 'LSTAT'],\n",
       "      dtype='object')"
      ]
     },
     "execution_count": 12,
     "metadata": {},
     "output_type": "execute_result"
    }
   ],
   "source": [
    "X.columns"
   ]
  },
  {
   "cell_type": "code",
   "execution_count": 14,
   "id": "1e0584b6-3e64-4e8f-91c5-dd2418134482",
   "metadata": {},
   "outputs": [
    {
     "data": {
      "text/html": [
       "<div>\n",
       "<style scoped>\n",
       "    .dataframe tbody tr th:only-of-type {\n",
       "        vertical-align: middle;\n",
       "    }\n",
       "\n",
       "    .dataframe tbody tr th {\n",
       "        vertical-align: top;\n",
       "    }\n",
       "\n",
       "    .dataframe thead th {\n",
       "        text-align: right;\n",
       "    }\n",
       "</style>\n",
       "<table border=\"1\" class=\"dataframe\">\n",
       "  <thead>\n",
       "    <tr style=\"text-align: right;\">\n",
       "      <th></th>\n",
       "      <th>CRIM</th>\n",
       "      <th>ZN</th>\n",
       "      <th>INDUS</th>\n",
       "      <th>CHAS</th>\n",
       "      <th>NOX</th>\n",
       "      <th>RM</th>\n",
       "      <th>AGE</th>\n",
       "      <th>DIS</th>\n",
       "      <th>RAD</th>\n",
       "      <th>TAX</th>\n",
       "      <th>PTRATIO</th>\n",
       "      <th>B</th>\n",
       "      <th>LSTAT</th>\n",
       "    </tr>\n",
       "  </thead>\n",
       "  <tbody>\n",
       "    <tr>\n",
       "      <th>count</th>\n",
       "      <td>506.000000</td>\n",
       "      <td>506.000000</td>\n",
       "      <td>506.000000</td>\n",
       "      <td>506.000000</td>\n",
       "      <td>506.000000</td>\n",
       "      <td>506.000000</td>\n",
       "      <td>506.000000</td>\n",
       "      <td>506.000000</td>\n",
       "      <td>506.000000</td>\n",
       "      <td>506.000000</td>\n",
       "      <td>506.000000</td>\n",
       "      <td>506.000000</td>\n",
       "      <td>506.000000</td>\n",
       "    </tr>\n",
       "    <tr>\n",
       "      <th>mean</th>\n",
       "      <td>3.613524</td>\n",
       "      <td>11.363636</td>\n",
       "      <td>11.136779</td>\n",
       "      <td>0.069170</td>\n",
       "      <td>0.554695</td>\n",
       "      <td>6.284634</td>\n",
       "      <td>68.574901</td>\n",
       "      <td>3.795043</td>\n",
       "      <td>9.549407</td>\n",
       "      <td>408.237154</td>\n",
       "      <td>18.455534</td>\n",
       "      <td>356.674032</td>\n",
       "      <td>12.653063</td>\n",
       "    </tr>\n",
       "    <tr>\n",
       "      <th>std</th>\n",
       "      <td>8.601545</td>\n",
       "      <td>23.322453</td>\n",
       "      <td>6.860353</td>\n",
       "      <td>0.253994</td>\n",
       "      <td>0.115878</td>\n",
       "      <td>0.702617</td>\n",
       "      <td>28.148861</td>\n",
       "      <td>2.105710</td>\n",
       "      <td>8.707259</td>\n",
       "      <td>168.537116</td>\n",
       "      <td>2.164946</td>\n",
       "      <td>91.294864</td>\n",
       "      <td>7.141062</td>\n",
       "    </tr>\n",
       "    <tr>\n",
       "      <th>min</th>\n",
       "      <td>0.006320</td>\n",
       "      <td>0.000000</td>\n",
       "      <td>0.460000</td>\n",
       "      <td>0.000000</td>\n",
       "      <td>0.385000</td>\n",
       "      <td>3.561000</td>\n",
       "      <td>2.900000</td>\n",
       "      <td>1.129600</td>\n",
       "      <td>1.000000</td>\n",
       "      <td>187.000000</td>\n",
       "      <td>12.600000</td>\n",
       "      <td>0.320000</td>\n",
       "      <td>1.730000</td>\n",
       "    </tr>\n",
       "    <tr>\n",
       "      <th>25%</th>\n",
       "      <td>0.082045</td>\n",
       "      <td>0.000000</td>\n",
       "      <td>5.190000</td>\n",
       "      <td>0.000000</td>\n",
       "      <td>0.449000</td>\n",
       "      <td>5.885500</td>\n",
       "      <td>45.025000</td>\n",
       "      <td>2.100175</td>\n",
       "      <td>4.000000</td>\n",
       "      <td>279.000000</td>\n",
       "      <td>17.400000</td>\n",
       "      <td>375.377500</td>\n",
       "      <td>6.950000</td>\n",
       "    </tr>\n",
       "    <tr>\n",
       "      <th>50%</th>\n",
       "      <td>0.256510</td>\n",
       "      <td>0.000000</td>\n",
       "      <td>9.690000</td>\n",
       "      <td>0.000000</td>\n",
       "      <td>0.538000</td>\n",
       "      <td>6.208500</td>\n",
       "      <td>77.500000</td>\n",
       "      <td>3.207450</td>\n",
       "      <td>5.000000</td>\n",
       "      <td>330.000000</td>\n",
       "      <td>19.050000</td>\n",
       "      <td>391.440000</td>\n",
       "      <td>11.360000</td>\n",
       "    </tr>\n",
       "    <tr>\n",
       "      <th>75%</th>\n",
       "      <td>3.677083</td>\n",
       "      <td>12.500000</td>\n",
       "      <td>18.100000</td>\n",
       "      <td>0.000000</td>\n",
       "      <td>0.624000</td>\n",
       "      <td>6.623500</td>\n",
       "      <td>94.075000</td>\n",
       "      <td>5.188425</td>\n",
       "      <td>24.000000</td>\n",
       "      <td>666.000000</td>\n",
       "      <td>20.200000</td>\n",
       "      <td>396.225000</td>\n",
       "      <td>16.955000</td>\n",
       "    </tr>\n",
       "    <tr>\n",
       "      <th>max</th>\n",
       "      <td>88.976200</td>\n",
       "      <td>100.000000</td>\n",
       "      <td>27.740000</td>\n",
       "      <td>1.000000</td>\n",
       "      <td>0.871000</td>\n",
       "      <td>8.780000</td>\n",
       "      <td>100.000000</td>\n",
       "      <td>12.126500</td>\n",
       "      <td>24.000000</td>\n",
       "      <td>711.000000</td>\n",
       "      <td>22.000000</td>\n",
       "      <td>396.900000</td>\n",
       "      <td>37.970000</td>\n",
       "    </tr>\n",
       "  </tbody>\n",
       "</table>\n",
       "</div>"
      ],
      "text/plain": [
       "             CRIM          ZN       INDUS        CHAS         NOX          RM  \\\n",
       "count  506.000000  506.000000  506.000000  506.000000  506.000000  506.000000   \n",
       "mean     3.613524   11.363636   11.136779    0.069170    0.554695    6.284634   \n",
       "std      8.601545   23.322453    6.860353    0.253994    0.115878    0.702617   \n",
       "min      0.006320    0.000000    0.460000    0.000000    0.385000    3.561000   \n",
       "25%      0.082045    0.000000    5.190000    0.000000    0.449000    5.885500   \n",
       "50%      0.256510    0.000000    9.690000    0.000000    0.538000    6.208500   \n",
       "75%      3.677083   12.500000   18.100000    0.000000    0.624000    6.623500   \n",
       "max     88.976200  100.000000   27.740000    1.000000    0.871000    8.780000   \n",
       "\n",
       "              AGE         DIS         RAD         TAX     PTRATIO           B  \\\n",
       "count  506.000000  506.000000  506.000000  506.000000  506.000000  506.000000   \n",
       "mean    68.574901    3.795043    9.549407  408.237154   18.455534  356.674032   \n",
       "std     28.148861    2.105710    8.707259  168.537116    2.164946   91.294864   \n",
       "min      2.900000    1.129600    1.000000  187.000000   12.600000    0.320000   \n",
       "25%     45.025000    2.100175    4.000000  279.000000   17.400000  375.377500   \n",
       "50%     77.500000    3.207450    5.000000  330.000000   19.050000  391.440000   \n",
       "75%     94.075000    5.188425   24.000000  666.000000   20.200000  396.225000   \n",
       "max    100.000000   12.126500   24.000000  711.000000   22.000000  396.900000   \n",
       "\n",
       "            LSTAT  \n",
       "count  506.000000  \n",
       "mean    12.653063  \n",
       "std      7.141062  \n",
       "min      1.730000  \n",
       "25%      6.950000  \n",
       "50%     11.360000  \n",
       "75%     16.955000  \n",
       "max     37.970000  "
      ]
     },
     "execution_count": 14,
     "metadata": {},
     "output_type": "execute_result"
    }
   ],
   "source": [
    "X.describe()"
   ]
  },
  {
   "cell_type": "code",
   "execution_count": 21,
   "id": "fd226751-f666-41ea-b1a3-4e7411cf671a",
   "metadata": {},
   "outputs": [],
   "source": [
    " X_train, X_test, y_train, y_test = train_test_split(X, y, test_size=0.3, random_state=0)"
   ]
  },
  {
   "cell_type": "code",
   "execution_count": 23,
   "id": "2be0d2f9-e4dc-44e2-8b48-ae5bd8f36d5f",
   "metadata": {},
   "outputs": [
    {
     "data": {
      "text/plain": [
       "<Axes: xlabel='RM', ylabel='MEDV'>"
      ]
     },
     "execution_count": 23,
     "metadata": {},
     "output_type": "execute_result"
    },
    {
     "data": {
      "image/png": "[encoded data removed]",
      "text/plain": [
       "<Figure size 640x480 with 1 Axes>"
      ]
     },
     "metadata": {},
     "output_type": "display_data"
    }
   ],
   "source": [
    "sns.scatterplot(x=X_train['RM'], y=y_train)"
   ]
  },
  {
   "cell_type": "code",
   "execution_count": 25,
   "id": "dc0ebd92-e1a6-40a0-a6a9-4fcf79c2670c",
   "metadata": {},
   "outputs": [],
   "source": [
    "def evaluate(y_test,y_pred):\n",
    "    # Explained variance score: 1 is perfect prediction\n",
    "    print(f'R^2: {r2_score(y_test,y_pred):.2f}')\n",
    "    print(f\"RMSE: {np.sqrt(mean_squared_error(y_test,y_pred)):.2f}\")\n",
    "    print(f\"MAE: {mean_absolute_error(y_test,y_pred):.2f}\")"
   ]
  },
  {
   "cell_type": "code",
   "execution_count": 27,
   "id": "7197be22-5f1f-4336-a5b5-af878ff2b415",
   "metadata": {},
   "outputs": [],
   "source": [
    "def print_linear_regr(model,X_train):\n",
    "    print(f\"Intercept: {model.intercept_}\")\n",
    "    print(pd.DataFrame(zip(X_train.columns, model.coef_),\n",
    "                       columns=['features', 'estimatedCoeffs']))"
   ]
  },
  {
   "cell_type": "code",
   "execution_count": 29,
   "id": "e23048d6-0241-49f0-bf16-36982db008e2",
   "metadata": {},
   "outputs": [],
   "source": [
    "def holdout_performance(model,X_test,y_test,plot=False):\n",
    "    y_pred = model.predict(X_test)\n",
    "    \n",
    "    print(\"\\nHoldout estimation\")\n",
    "    evaluate(y_test,y_pred)\n",
    "    if plot:\n",
    "        display = PredictionErrorDisplay.from_predictions(\\\n",
    "                  y_true=y_test, y_pred=y_pred,\\\n",
    "                  kind=\"actual_vs_predicted\")\n",
    "        display.plot()"
   ]
  },
  {
   "cell_type": "code",
   "execution_count": 31,
   "id": "2669fdbb-3c80-427d-8d7b-203dc46948b4",
   "metadata": {},
   "outputs": [],
   "source": [
    "def linear_regr(model,X_train,y_train,X_test,y_test,plot=False):\n",
    "    print(\"\\nLinear Regression\")\n",
    "    print(\"=========================\")\n",
    "    model.fit(X_train,y_train)\n",
    "    print_linear_regr(model,X_train)\n",
    "    holdout_performance(model,X_test,y_test,plot)"
   ]
  },
  {
   "cell_type": "code",
   "execution_count": 33,
   "id": "32f401b5-e192-452b-896a-56e9d90bb8d0",
   "metadata": {},
   "outputs": [],
   "source": [
    "# Ordinary least-squares Linear Regression\n",
    "lm = LinearRegression()"
   ]
  },
  {
   "cell_type": "code",
   "execution_count": 37,
   "id": "5f1e6c1c-48d1-475e-92e8-e842876c6e92",
   "metadata": {},
   "outputs": [
    {
     "name": "stdout",
     "output_type": "stream",
     "text": [
      "\n",
      "Linear Regression\n",
      "=========================\n",
      "Intercept: -35.99434897818352\n",
      "  features  estimatedCoeffs\n",
      "0       RM         9.311328\n",
      "\n",
      "Holdout estimation\n",
      "R^2: 0.44\n",
      "RMSE: 6.86\n",
      "MAE: 4.47\n"
     ]
    },
    {
     "data": {
      "image/png": "[encoded data removed]",
      "text/plain": [
       "<Figure size 640x480 with 1 Axes>"
      ]
     },
     "metadata": {},
     "output_type": "display_data"
    },
    {
     "data": {
      "image/png": "[encoded data removed]",
      "text/plain": [
       "<Figure size 640x480 with 1 Axes>"
      ]
     },
     "metadata": {},
     "output_type": "display_data"
    }
   ],
   "source": [
    "linear_regr(lm, X_train[['RM']], y_train, X_test[['RM']], y_test, plot=True)"
   ]
  },
  {
   "cell_type": "code",
   "execution_count": 39,
   "id": "3db80f93-05a4-4503-a09a-9a1fb7c614ba",
   "metadata": {},
   "outputs": [
    {
     "name": "stdout",
     "output_type": "stream",
     "text": [
      "\n",
      "Linear Regression\n",
      "=========================\n",
      "Intercept: -30.89648178869281\n",
      "  features  estimatedCoeffs\n",
      "0       RM         8.658377\n",
      "1     CRIM        -0.291450\n",
      "\n",
      "Holdout estimation\n",
      "R^2: 0.47\n",
      "RMSE: 6.65\n",
      "MAE: 4.29\n"
     ]
    },
    {
     "data": {
      "image/png": "[encoded data removed]",
      "text/plain": [
       "<Figure size 640x480 with 1 Axes>"
      ]
     },
     "metadata": {},
     "output_type": "display_data"
    },
    {
     "data": {
      "image/png": "[encoded data removed]",
      "text/plain": [
       "<Figure size 640x480 with 1 Axes>"
      ]
     },
     "metadata": {},
     "output_type": "display_data"
    }
   ],
   "source": [
    "linear_regr(lm, X_train[['RM','CRIM']], y_train, X_test[['RM','CRIM']], y_test, plot=True)"
   ]
  },
  {
   "cell_type": "code",
   "execution_count": 41,
   "id": "c4230952-5ebf-4e48-8ec7-4d0e70a1d2c7",
   "metadata": {},
   "outputs": [
    {
     "name": "stdout",
     "output_type": "stream",
     "text": [
      "\n",
      "Linear Regression\n",
      "=========================\n",
      "Intercept: 37.93710774183309\n",
      "   features  estimatedCoeffs\n",
      "0      CRIM        -0.121310\n",
      "1        ZN         0.044466\n",
      "2     INDUS         0.011342\n",
      "3      CHAS         2.511246\n",
      "4       NOX       -16.231253\n",
      "5        RM         3.859068\n",
      "6       AGE        -0.009985\n",
      "7       DIS        -1.500270\n",
      "8       RAD         0.242143\n",
      "9       TAX        -0.011072\n",
      "10  PTRATIO        -1.017753\n",
      "11        B         0.006814\n",
      "12    LSTAT        -0.486738\n",
      "\n",
      "Holdout estimation\n",
      "R^2: 0.67\n",
      "RMSE: 5.21\n",
      "MAE: 3.61\n"
     ]
    },
    {
     "data": {
      "image/png": "[encoded data removed]",
      "text/plain": [
       "<Figure size 640x480 with 1 Axes>"
      ]
     },
     "metadata": {},
     "output_type": "display_data"
    },
    {
     "data": {
      "image/png": "[encoded data removed]",
      "text/plain": [
       "<Figure size 640x480 with 1 Axes>"
      ]
     },
     "metadata": {},
     "output_type": "display_data"
    }
   ],
   "source": [
    "linear_regr(lm, X_train, y_train, X_test, y_test, plot=True)"
   ]
  },
  {
   "cell_type": "code",
   "execution_count": 43,
   "id": "16f78a5c-6cd9-4bb9-b7bb-20d90ddff0fe",
   "metadata": {},
   "outputs": [],
   "source": [
    "lm_ridge = Ridge(alpha=10)"
   ]
  },
  {
   "cell_type": "code",
   "execution_count": 45,
   "id": "caab3bc0-935f-48e6-9b30-81e82ffa2bf7",
   "metadata": {},
   "outputs": [
    {
     "name": "stdout",
     "output_type": "stream",
     "text": [
      "\n",
      "Linear Regression\n",
      "=========================\n",
      "Intercept: 30.451937175666828\n",
      "   features  estimatedCoeffs\n",
      "0      CRIM        -0.116008\n",
      "1        ZN         0.048609\n",
      "2     INDUS        -0.047175\n",
      "3      CHAS         1.785961\n",
      "4       NOX        -1.540350\n",
      "5        RM         3.620640\n",
      "6       AGE        -0.021636\n",
      "7       DIS        -1.309680\n",
      "8       RAD         0.211507\n",
      "9       TAX        -0.012664\n",
      "10  PTRATIO        -0.876398\n",
      "11        B         0.007688\n",
      "12    LSTAT        -0.524099\n",
      "\n",
      "Holdout estimation\n",
      "R^2: 0.66\n",
      "RMSE: 5.35\n",
      "MAE: 3.65\n"
     ]
    }
   ],
   "source": [
    "linear_regr(lm_ridge, X_train, y_train, X_test, y_test)"
   ]
  },
  {
   "cell_type": "code",
   "execution_count": 47,
   "id": "f53545f8-d3f5-4d35-9e6f-dea3ee509964",
   "metadata": {},
   "outputs": [],
   "source": [
    "lm_lasso = Lasso(alpha=10)"
   ]
  },
  {
   "cell_type": "code",
   "execution_count": 49,
   "id": "3582415e-95f5-458a-82c3-49b02b8d9847",
   "metadata": {},
   "outputs": [
    {
     "name": "stdout",
     "output_type": "stream",
     "text": [
      "\n",
      "Linear Regression\n",
      "=========================\n",
      "Intercept: 31.50559099984182\n",
      "   features  estimatedCoeffs\n",
      "0      CRIM        -0.000000\n",
      "1        ZN         0.031050\n",
      "2     INDUS        -0.000000\n",
      "3      CHAS         0.000000\n",
      "4       NOX         0.000000\n",
      "5        RM         0.000000\n",
      "6       AGE         0.000000\n",
      "7       DIS        -0.000000\n",
      "8       RAD         0.000000\n",
      "9       TAX        -0.010997\n",
      "10  PTRATIO        -0.000000\n",
      "11        B         0.006235\n",
      "12    LSTAT        -0.559179\n",
      "\n",
      "Holdout estimation\n",
      "R^2: 0.48\n",
      "RMSE: 6.56\n",
      "MAE: 4.39\n"
     ]
    }
   ],
   "source": [
    "linear_regr(lm_lasso, X_train, y_train, X_test, y_test)"
   ]
  },
  {
   "cell_type": "code",
   "execution_count": 51,
   "id": "af4270c5-957b-4432-a29d-6c967c08cc62",
   "metadata": {},
   "outputs": [],
   "source": [
    "lm_sgd = SGDRegressor()"
   ]
  },
  {
   "cell_type": "code",
   "execution_count": 53,
   "id": "053c7bac-47dd-4e31-905f-45075b873e3c",
   "metadata": {},
   "outputs": [
    {
     "name": "stdout",
     "output_type": "stream",
     "text": [
      "\n",
      "Linear Regression\n",
      "=========================\n",
      "Intercept: [5.694863e+10]\n",
      "   features  estimatedCoeffs\n",
      "0      CRIM     6.049194e+11\n",
      "1        ZN     1.841522e+11\n",
      "2     INDUS    -4.834792e+11\n",
      "3      CHAS     2.690272e+10\n",
      "4       NOX     1.924078e+10\n",
      "5        RM     1.876303e+11\n",
      "6       AGE    -1.363511e+11\n",
      "7       DIS     4.310620e+11\n",
      "8       RAD     5.008946e+11\n",
      "9       TAX     2.939668e+10\n",
      "10  PTRATIO     7.330973e+11\n",
      "11        B     4.701957e+10\n",
      "12    LSTAT     1.923592e+11\n",
      "\n",
      "Holdout estimation\n",
      "R^2: -23191957563233252396761088.00\n",
      "RMSE: 43944168903576.56\n",
      "MAE: 42510957746891.43\n"
     ]
    }
   ],
   "source": [
    "linear_regr(lm_sgd, X_train, y_train, X_test, y_test)"
   ]
  },
  {
   "cell_type": "code",
   "execution_count": 57,
   "id": "9df8fe74-cf09-4537-8e54-02d8fe82e3bc",
   "metadata": {},
   "outputs": [
    {
     "data": {
      "text/html": [
       "<div>\n",
       "<style scoped>\n",
       "    .dataframe tbody tr th:only-of-type {\n",
       "        vertical-align: middle;\n",
       "    }\n",
       "\n",
       "    .dataframe tbody tr th {\n",
       "        vertical-align: top;\n",
       "    }\n",
       "\n",
       "    .dataframe thead th {\n",
       "        text-align: right;\n",
       "    }\n",
       "</style>\n",
       "<table border=\"1\" class=\"dataframe\">\n",
       "  <thead>\n",
       "    <tr style=\"text-align: right;\">\n",
       "      <th></th>\n",
       "      <th>CRIM</th>\n",
       "      <th>ZN</th>\n",
       "      <th>INDUS</th>\n",
       "      <th>CHAS</th>\n",
       "      <th>NOX</th>\n",
       "      <th>RM</th>\n",
       "      <th>AGE</th>\n",
       "      <th>DIS</th>\n",
       "      <th>RAD</th>\n",
       "      <th>TAX</th>\n",
       "      <th>PTRATIO</th>\n",
       "      <th>B</th>\n",
       "      <th>LSTAT</th>\n",
       "    </tr>\n",
       "  </thead>\n",
       "  <tbody>\n",
       "    <tr>\n",
       "      <th>count</th>\n",
       "      <td>3.540000e+02</td>\n",
       "      <td>3.540000e+02</td>\n",
       "      <td>3.540000e+02</td>\n",
       "      <td>3.540000e+02</td>\n",
       "      <td>3.540000e+02</td>\n",
       "      <td>3.540000e+02</td>\n",
       "      <td>3.540000e+02</td>\n",
       "      <td>3.540000e+02</td>\n",
       "      <td>3.540000e+02</td>\n",
       "      <td>3.540000e+02</td>\n",
       "      <td>3.540000e+02</td>\n",
       "      <td>3.540000e+02</td>\n",
       "      <td>3.540000e+02</td>\n",
       "    </tr>\n",
       "    <tr>\n",
       "      <th>mean</th>\n",
       "      <td>-1.505387e-17</td>\n",
       "      <td>3.010774e-17</td>\n",
       "      <td>-5.519753e-17</td>\n",
       "      <td>-5.017957e-18</td>\n",
       "      <td>-1.655926e-16</td>\n",
       "      <td>-5.419394e-16</td>\n",
       "      <td>8.938236e-17</td>\n",
       "      <td>2.258081e-17</td>\n",
       "      <td>3.261672e-17</td>\n",
       "      <td>-1.731195e-16</td>\n",
       "      <td>4.767059e-16</td>\n",
       "      <td>-1.003591e-17</td>\n",
       "      <td>-3.663109e-16</td>\n",
       "    </tr>\n",
       "    <tr>\n",
       "      <th>std</th>\n",
       "      <td>1.001415e+00</td>\n",
       "      <td>1.001415e+00</td>\n",
       "      <td>1.001415e+00</td>\n",
       "      <td>1.001415e+00</td>\n",
       "      <td>1.001415e+00</td>\n",
       "      <td>1.001415e+00</td>\n",
       "      <td>1.001415e+00</td>\n",
       "      <td>1.001415e+00</td>\n",
       "      <td>1.001415e+00</td>\n",
       "      <td>1.001415e+00</td>\n",
       "      <td>1.001415e+00</td>\n",
       "      <td>1.001415e+00</td>\n",
       "      <td>1.001415e+00</td>\n",
       "    </tr>\n",
       "    <tr>\n",
       "      <th>min</th>\n",
       "      <td>-4.018459e-01</td>\n",
       "      <td>-4.999792e-01</td>\n",
       "      <td>-1.520455e+00</td>\n",
       "      <td>-2.636027e-01</td>\n",
       "      <td>-1.482176e+00</td>\n",
       "      <td>-3.919205e+00</td>\n",
       "      <td>-2.360604e+00</td>\n",
       "      <td>-1.253553e+00</td>\n",
       "      <td>-9.645908e-01</td>\n",
       "      <td>-1.260821e+00</td>\n",
       "      <td>-2.643715e+00</td>\n",
       "      <td>-4.213769e+00</td>\n",
       "      <td>-1.515269e+00</td>\n",
       "    </tr>\n",
       "    <tr>\n",
       "      <th>25%</th>\n",
       "      <td>-3.938011e-01</td>\n",
       "      <td>-4.999792e-01</td>\n",
       "      <td>-8.775506e-01</td>\n",
       "      <td>-2.636027e-01</td>\n",
       "      <td>-9.190995e-01</td>\n",
       "      <td>-5.893965e-01</td>\n",
       "      <td>-8.507175e-01</td>\n",
       "      <td>-8.014615e-01</td>\n",
       "      <td>-6.181601e-01</td>\n",
       "      <td>-7.383712e-01</td>\n",
       "      <td>-4.831722e-01</td>\n",
       "      <td>1.807736e-01</td>\n",
       "      <td>-8.071961e-01</td>\n",
       "    </tr>\n",
       "    <tr>\n",
       "      <th>50%</th>\n",
       "      <td>-3.711149e-01</td>\n",
       "      <td>-4.999792e-01</td>\n",
       "      <td>-3.606501e-01</td>\n",
       "      <td>-2.636027e-01</td>\n",
       "      <td>-1.567805e-01</td>\n",
       "      <td>-1.325598e-01</td>\n",
       "      <td>3.734422e-01</td>\n",
       "      <td>-2.648077e-01</td>\n",
       "      <td>-5.026833e-01</td>\n",
       "      <td>-5.329134e-01</td>\n",
       "      <td>2.820200e-01</td>\n",
       "      <td>3.626138e-01</td>\n",
       "      <td>-1.811775e-01</td>\n",
       "    </tr>\n",
       "    <tr>\n",
       "      <th>75%</th>\n",
       "      <td>-3.052051e-02</td>\n",
       "      <td>3.467743e-01</td>\n",
       "      <td>1.005342e+00</td>\n",
       "      <td>-2.636027e-01</td>\n",
       "      <td>6.336923e-01</td>\n",
       "      <td>4.833317e-01</td>\n",
       "      <td>8.841784e-01</td>\n",
       "      <td>6.377762e-01</td>\n",
       "      <td>1.691377e+00</td>\n",
       "      <td>1.551016e+00</td>\n",
       "      <td>7.771443e-01</td>\n",
       "      <td>4.103910e-01</td>\n",
       "      <td>6.050594e-01</td>\n",
       "    </tr>\n",
       "    <tr>\n",
       "      <th>max</th>\n",
       "      <td>1.026419e+01</td>\n",
       "      <td>3.733788e+00</td>\n",
       "      <td>2.385652e+00</td>\n",
       "      <td>3.793587e+00</td>\n",
       "      <td>2.727904e+00</td>\n",
       "      <td>3.525700e+00</td>\n",
       "      <td>1.107402e+00</td>\n",
       "      <td>4.050895e+00</td>\n",
       "      <td>1.691377e+00</td>\n",
       "      <td>1.815176e+00</td>\n",
       "      <td>1.587348e+00</td>\n",
       "      <td>4.245429e-01</td>\n",
       "      <td>3.471659e+00</td>\n",
       "    </tr>\n",
       "  </tbody>\n",
       "</table>\n",
       "</div>"
      ],
      "text/plain": [
       "               CRIM            ZN         INDUS          CHAS           NOX  \\\n",
       "count  3.540000e+02  3.540000e+02  3.540000e+02  3.540000e+02  3.540000e+02   \n",
       "mean  -1.505387e-17  3.010774e-17 -5.519753e-17 -5.017957e-18 -1.655926e-16   \n",
       "std    1.001415e+00  1.001415e+00  1.001415e+00  1.001415e+00  1.001415e+00   \n",
       "min   -4.018459e-01 -4.999792e-01 -1.520455e+00 -2.636027e-01 -1.482176e+00   \n",
       "25%   -3.938011e-01 -4.999792e-01 -8.775506e-01 -2.636027e-01 -9.190995e-01   \n",
       "50%   -3.711149e-01 -4.999792e-01 -3.606501e-01 -2.636027e-01 -1.567805e-01   \n",
       "75%   -3.052051e-02  3.467743e-01  1.005342e+00 -2.636027e-01  6.336923e-01   \n",
       "max    1.026419e+01  3.733788e+00  2.385652e+00  3.793587e+00  2.727904e+00   \n",
       "\n",
       "                 RM           AGE           DIS           RAD           TAX  \\\n",
       "count  3.540000e+02  3.540000e+02  3.540000e+02  3.540000e+02  3.540000e+02   \n",
       "mean  -5.419394e-16  8.938236e-17  2.258081e-17  3.261672e-17 -1.731195e-16   \n",
       "std    1.001415e+00  1.001415e+00  1.001415e+00  1.001415e+00  1.001415e+00   \n",
       "min   -3.919205e+00 -2.360604e+00 -1.253553e+00 -9.645908e-01 -1.260821e+00   \n",
       "25%   -5.893965e-01 -8.507175e-01 -8.014615e-01 -6.181601e-01 -7.383712e-01   \n",
       "50%   -1.325598e-01  3.734422e-01 -2.648077e-01 -5.026833e-01 -5.329134e-01   \n",
       "75%    4.833317e-01  8.841784e-01  6.377762e-01  1.691377e+00  1.551016e+00   \n",
       "max    3.525700e+00  1.107402e+00  4.050895e+00  1.691377e+00  1.815176e+00   \n",
       "\n",
       "            PTRATIO             B         LSTAT  \n",
       "count  3.540000e+02  3.540000e+02  3.540000e+02  \n",
       "mean   4.767059e-16 -1.003591e-17 -3.663109e-16  \n",
       "std    1.001415e+00  1.001415e+00  1.001415e+00  \n",
       "min   -2.643715e+00 -4.213769e+00 -1.515269e+00  \n",
       "25%   -4.831722e-01  1.807736e-01 -8.071961e-01  \n",
       "50%    2.820200e-01  3.626138e-01 -1.811775e-01  \n",
       "75%    7.771443e-01  4.103910e-01  6.050594e-01  \n",
       "max    1.587348e+00  4.245429e-01  3.471659e+00  "
      ]
     },
     "execution_count": 57,
     "metadata": {},
     "output_type": "execute_result"
    }
   ],
   "source": [
    "sc = StandardScaler()\n",
    "train_sc = sc.fit(X_train)\n",
    "X_train_sc = pd.DataFrame(train_sc.transform(X_train), columns= X_train.columns)\n",
    "X_train_sc.describe()"
   ]
  },
  {
   "cell_type": "code",
   "execution_count": 59,
   "id": "772ccf74-5ebb-40a2-b80b-d1c2985273c2",
   "metadata": {},
   "outputs": [
    {
     "data": {
      "text/html": [
       "<div>\n",
       "<style scoped>\n",
       "    .dataframe tbody tr th:only-of-type {\n",
       "        vertical-align: middle;\n",
       "    }\n",
       "\n",
       "    .dataframe tbody tr th {\n",
       "        vertical-align: top;\n",
       "    }\n",
       "\n",
       "    .dataframe thead th {\n",
       "        text-align: right;\n",
       "    }\n",
       "</style>\n",
       "<table border=\"1\" class=\"dataframe\">\n",
       "  <thead>\n",
       "    <tr style=\"text-align: right;\">\n",
       "      <th></th>\n",
       "      <th>CRIM</th>\n",
       "      <th>ZN</th>\n",
       "      <th>INDUS</th>\n",
       "      <th>CHAS</th>\n",
       "      <th>NOX</th>\n",
       "      <th>RM</th>\n",
       "      <th>AGE</th>\n",
       "      <th>DIS</th>\n",
       "      <th>RAD</th>\n",
       "      <th>TAX</th>\n",
       "      <th>PTRATIO</th>\n",
       "      <th>B</th>\n",
       "      <th>LSTAT</th>\n",
       "    </tr>\n",
       "  </thead>\n",
       "  <tbody>\n",
       "    <tr>\n",
       "      <th>count</th>\n",
       "      <td>152.000000</td>\n",
       "      <td>152.000000</td>\n",
       "      <td>152.000000</td>\n",
       "      <td>152.000000</td>\n",
       "      <td>152.000000</td>\n",
       "      <td>152.000000</td>\n",
       "      <td>152.000000</td>\n",
       "      <td>152.000000</td>\n",
       "      <td>152.000000</td>\n",
       "      <td>152.000000</td>\n",
       "      <td>152.000000</td>\n",
       "      <td>152.000000</td>\n",
       "      <td>152.000000</td>\n",
       "    </tr>\n",
       "    <tr>\n",
       "      <th>mean</th>\n",
       "      <td>0.101863</td>\n",
       "      <td>-0.062815</td>\n",
       "      <td>0.027656</td>\n",
       "      <td>0.056702</td>\n",
       "      <td>-0.040466</td>\n",
       "      <td>-0.112983</td>\n",
       "      <td>-0.049837</td>\n",
       "      <td>0.052535</td>\n",
       "      <td>0.075461</td>\n",
       "      <td>0.126135</td>\n",
       "      <td>-0.026840</td>\n",
       "      <td>-0.152902</td>\n",
       "      <td>0.100038</td>\n",
       "    </tr>\n",
       "    <tr>\n",
       "      <th>std</th>\n",
       "      <td>1.097513</td>\n",
       "      <td>0.955822</td>\n",
       "      <td>0.939228</td>\n",
       "      <td>1.097665</td>\n",
       "      <td>1.012134</td>\n",
       "      <td>1.003146</td>\n",
       "      <td>1.016954</td>\n",
       "      <td>1.064002</td>\n",
       "      <td>1.016264</td>\n",
       "      <td>0.958093</td>\n",
       "      <td>0.911543</td>\n",
       "      <td>1.205053</td>\n",
       "      <td>1.030528</td>\n",
       "    </tr>\n",
       "    <tr>\n",
       "      <th>min</th>\n",
       "      <td>-0.401032</td>\n",
       "      <td>-0.499979</td>\n",
       "      <td>-1.480363</td>\n",
       "      <td>-0.263603</td>\n",
       "      <td>-1.421537</td>\n",
       "      <td>-3.488402</td>\n",
       "      <td>-2.249885</td>\n",
       "      <td>-1.275153</td>\n",
       "      <td>-0.964591</td>\n",
       "      <td>-1.254951</td>\n",
       "      <td>-2.643715</td>\n",
       "      <td>-4.187103</td>\n",
       "      <td>-1.488389</td>\n",
       "    </tr>\n",
       "    <tr>\n",
       "      <th>25%</th>\n",
       "      <td>-0.391394</td>\n",
       "      <td>-0.499979</td>\n",
       "      <td>-0.747252</td>\n",
       "      <td>-0.263603</td>\n",
       "      <td>-0.936425</td>\n",
       "      <td>-0.614004</td>\n",
       "      <td>-0.878397</td>\n",
       "      <td>-0.838052</td>\n",
       "      <td>-0.618160</td>\n",
       "      <td>-0.579875</td>\n",
       "      <td>-0.674470</td>\n",
       "      <td>0.119605</td>\n",
       "      <td>-0.659710</td>\n",
       "    </tr>\n",
       "    <tr>\n",
       "      <th>50%</th>\n",
       "      <td>-0.375123</td>\n",
       "      <td>-0.499979</td>\n",
       "      <td>-0.168781</td>\n",
       "      <td>-0.263603</td>\n",
       "      <td>-0.278058</td>\n",
       "      <td>-0.216010</td>\n",
       "      <td>0.203792</td>\n",
       "      <td>-0.300357</td>\n",
       "      <td>-0.502683</td>\n",
       "      <td>-0.104387</td>\n",
       "      <td>0.101975</td>\n",
       "      <td>0.354485</td>\n",
       "      <td>-0.062340</td>\n",
       "    </tr>\n",
       "    <tr>\n",
       "      <th>75%</th>\n",
       "      <td>0.190823</td>\n",
       "      <td>-0.499979</td>\n",
       "      <td>1.005342</td>\n",
       "      <td>-0.263603</td>\n",
       "      <td>0.523243</td>\n",
       "      <td>0.293964</td>\n",
       "      <td>0.946681</td>\n",
       "      <td>0.837511</td>\n",
       "      <td>1.691377</td>\n",
       "      <td>1.551016</td>\n",
       "      <td>0.777144</td>\n",
       "      <td>0.424543</td>\n",
       "      <td>0.684638</td>\n",
       "    </tr>\n",
       "    <tr>\n",
       "      <th>max</th>\n",
       "      <td>8.412937</td>\n",
       "      <td>3.522100</td>\n",
       "      <td>2.385652</td>\n",
       "      <td>3.793587</td>\n",
       "      <td>2.727904</td>\n",
       "      <td>3.447243</td>\n",
       "      <td>1.107402</td>\n",
       "      <td>3.364998</td>\n",
       "      <td>1.691377</td>\n",
       "      <td>1.815176</td>\n",
       "      <td>1.227257</td>\n",
       "      <td>0.424543</td>\n",
       "      <td>3.611717</td>\n",
       "    </tr>\n",
       "  </tbody>\n",
       "</table>\n",
       "</div>"
      ],
      "text/plain": [
       "             CRIM          ZN       INDUS        CHAS         NOX          RM  \\\n",
       "count  152.000000  152.000000  152.000000  152.000000  152.000000  152.000000   \n",
       "mean     0.101863   -0.062815    0.027656    0.056702   -0.040466   -0.112983   \n",
       "std      1.097513    0.955822    0.939228    1.097665    1.012134    1.003146   \n",
       "min     -0.401032   -0.499979   -1.480363   -0.263603   -1.421537   -3.488402   \n",
       "25%     -0.391394   -0.499979   -0.747252   -0.263603   -0.936425   -0.614004   \n",
       "50%     -0.375123   -0.499979   -0.168781   -0.263603   -0.278058   -0.216010   \n",
       "75%      0.190823   -0.499979    1.005342   -0.263603    0.523243    0.293964   \n",
       "max      8.412937    3.522100    2.385652    3.793587    2.727904    3.447243   \n",
       "\n",
       "              AGE         DIS         RAD         TAX     PTRATIO           B  \\\n",
       "count  152.000000  152.000000  152.000000  152.000000  152.000000  152.000000   \n",
       "mean    -0.049837    0.052535    0.075461    0.126135   -0.026840   -0.152902   \n",
       "std      1.016954    1.064002    1.016264    0.958093    0.911543    1.205053   \n",
       "min     -2.249885   -1.275153   -0.964591   -1.254951   -2.643715   -4.187103   \n",
       "25%     -0.878397   -0.838052   -0.618160   -0.579875   -0.674470    0.119605   \n",
       "50%      0.203792   -0.300357   -0.502683   -0.104387    0.101975    0.354485   \n",
       "75%      0.946681    0.837511    1.691377    1.551016    0.777144    0.424543   \n",
       "max      1.107402    3.364998    1.691377    1.815176    1.227257    0.424543   \n",
       "\n",
       "            LSTAT  \n",
       "count  152.000000  \n",
       "mean     0.100038  \n",
       "std      1.030528  \n",
       "min     -1.488389  \n",
       "25%     -0.659710  \n",
       "50%     -0.062340  \n",
       "75%      0.684638  \n",
       "max      3.611717  "
      ]
     },
     "execution_count": 59,
     "metadata": {},
     "output_type": "execute_result"
    }
   ],
   "source": [
    "X_test_sc = pd.DataFrame(train_sc.transform(X_test), columns= X_test.columns)\n",
    "X_test_sc.describe()"
   ]
  },
  {
   "cell_type": "code",
   "execution_count": 61,
   "id": "f550bae8-54bc-4fee-8caa-2c484f6e5e71",
   "metadata": {},
   "outputs": [
    {
     "name": "stdout",
     "output_type": "stream",
     "text": [
      "\n",
      "Linear Regression\n",
      "=========================\n",
      "Intercept: 22.7454802259887\n",
      "   features  estimatedCoeffs\n",
      "0      CRIM        -1.011901\n",
      "1        ZN         1.050280\n",
      "2     INDUS         0.079210\n",
      "3      CHAS         0.618962\n",
      "4       NOX        -1.873691\n",
      "5        RM         2.705270\n",
      "6       AGE        -0.279573\n",
      "7       DIS        -3.097665\n",
      "8       RAD         2.096900\n",
      "9       TAX        -1.886063\n",
      "10  PTRATIO        -2.261105\n",
      "11        B         0.582643\n",
      "12    LSTAT        -3.440498\n",
      "\n",
      "Holdout estimation\n",
      "R^2: 0.67\n",
      "RMSE: 5.21\n",
      "MAE: 3.61\n"
     ]
    }
   ],
   "source": [
    "linear_regr(lm, X_train_sc, y_train, X_test_sc, y_test)"
   ]
  },
  {
   "cell_type": "code",
   "execution_count": 63,
   "id": "f3654446-6ea9-4211-80c8-59d719686aac",
   "metadata": {},
   "outputs": [
    {
     "name": "stdout",
     "output_type": "stream",
     "text": [
      "\n",
      "Linear Regression\n",
      "=========================\n",
      "Intercept: 22.7454802259887\n",
      "   features  estimatedCoeffs\n",
      "0      CRIM        -0.933398\n",
      "1        ZN         0.901779\n",
      "2     INDUS        -0.130099\n",
      "3      CHAS         0.653141\n",
      "4       NOX        -1.554675\n",
      "5        RM         2.780153\n",
      "6       AGE        -0.318141\n",
      "7       DIS        -2.751812\n",
      "8       RAD         1.470846\n",
      "9       TAX        -1.327215\n",
      "10  PTRATIO        -2.183673\n",
      "11        B         0.586609\n",
      "12    LSTAT        -3.297412\n",
      "\n",
      "Holdout estimation\n",
      "R^2: 0.67\n",
      "RMSE: 5.26\n",
      "MAE: 3.61\n"
     ]
    }
   ],
   "source": [
    "linear_regr(lm_ridge, X_train_sc, y_train, X_test_sc, y_test)"
   ]
  },
  {
   "cell_type": "code",
   "execution_count": 65,
   "id": "148f3361-c713-4b0f-9864-6e881bc67bc6",
   "metadata": {},
   "outputs": [
    {
     "name": "stdout",
     "output_type": "stream",
     "text": [
      "\n",
      "Linear Regression\n",
      "=========================\n",
      "Intercept: 22.7454802259887\n",
      "   features  estimatedCoeffs\n",
      "0      CRIM             -0.0\n",
      "1        ZN              0.0\n",
      "2     INDUS             -0.0\n",
      "3      CHAS              0.0\n",
      "4       NOX             -0.0\n",
      "5        RM              0.0\n",
      "6       AGE             -0.0\n",
      "7       DIS              0.0\n",
      "8       RAD             -0.0\n",
      "9       TAX             -0.0\n",
      "10  PTRATIO             -0.0\n",
      "11        B              0.0\n",
      "12    LSTAT             -0.0\n",
      "\n",
      "Holdout estimation\n",
      "R^2: -0.01\n",
      "RMSE: 9.15\n",
      "MAE: 6.62\n"
     ]
    }
   ],
   "source": [
    "linear_regr(lm_lasso, X_train_sc, y_train, X_test_sc, y_test)"
   ]
  },
  {
   "cell_type": "code",
   "execution_count": 67,
   "id": "cb26fba3-8a63-4c8b-8eba-833661c9b579",
   "metadata": {},
   "outputs": [
    {
     "name": "stdout",
     "output_type": "stream",
     "text": [
      "\n",
      "Linear Regression\n",
      "=========================\n",
      "Intercept: [22.74252683]\n",
      "   features  estimatedCoeffs\n",
      "0      CRIM        -0.959650\n",
      "1        ZN         0.955656\n",
      "2     INDUS        -0.154979\n",
      "3      CHAS         0.645369\n",
      "4       NOX        -1.699015\n",
      "5        RM         2.786825\n",
      "6       AGE        -0.352110\n",
      "7       DIS        -2.999743\n",
      "8       RAD         1.501647\n",
      "9       TAX        -1.281719\n",
      "10  PTRATIO        -2.222391\n",
      "11        B         0.579975\n",
      "12    LSTAT        -3.405375\n",
      "\n",
      "Holdout estimation\n",
      "R^2: 0.67\n",
      "RMSE: 5.25\n",
      "MAE: 3.63\n"
     ]
    }
   ],
   "source": [
    "linear_regr(lm_sgd, X_train_sc, y_train, X_test_sc, y_test)"
   ]
  },
  {
   "cell_type": "code",
   "execution_count": 69,
   "id": "f063a462-89da-405c-b2b3-b8f53c396e13",
   "metadata": {},
   "outputs": [
    {
     "data": {
      "text/plain": [
       "[('scaler', StandardScaler()), ('lm', LinearRegression())]"
      ]
     },
     "execution_count": 69,
     "metadata": {},
     "output_type": "execute_result"
    }
   ],
   "source": [
    "pipe_lm = Pipeline([('scaler', StandardScaler()), ('lm', LinearRegression())])\n",
    "pipe_lm.fit(X_train,y_train)\n",
    "pipe_lm.steps"
   ]
  },
  {
   "cell_type": "code",
   "execution_count": 71,
   "id": "9cbd05a9-e48b-49da-9b9f-4a967d7b8242",
   "metadata": {},
   "outputs": [
    {
     "name": "stdout",
     "output_type": "stream",
     "text": [
      "Intercept: 22.7454802259887\n",
      "   features  estimatedCoeffs\n",
      "0      CRIM        -1.011901\n",
      "1        ZN         1.050280\n",
      "2     INDUS         0.079210\n",
      "3      CHAS         0.618962\n",
      "4       NOX        -1.873691\n",
      "5        RM         2.705270\n",
      "6       AGE        -0.279573\n",
      "7       DIS        -3.097665\n",
      "8       RAD         2.096900\n",
      "9       TAX        -1.886063\n",
      "10  PTRATIO        -2.261105\n",
      "11        B         0.582643\n",
      "12    LSTAT        -3.440498\n"
     ]
    }
   ],
   "source": [
    "print_linear_regr(pipe_lm['lm'], X_train)"
   ]
  },
  {
   "cell_type": "code",
   "execution_count": 73,
   "id": "6f7c9176-602d-4c91-b7ee-effa01573e20",
   "metadata": {},
   "outputs": [
    {
     "name": "stdout",
     "output_type": "stream",
     "text": [
      "R^2: 0.67\n",
      "RMSE: 5.21\n",
      "MAE: 3.61\n"
     ]
    }
   ],
   "source": [
    "y_pred = pipe_lm.predict(X_test)\n",
    "evaluate(y_test,y_pred)"
   ]
  },
  {
   "cell_type": "code",
   "execution_count": 75,
   "id": "661c90ca-170f-48a2-995e-bf2b88ae4ab0",
   "metadata": {},
   "outputs": [],
   "source": [
    "#lm_ridge = Ridge()\n",
    "pipe_ridge = Pipeline([('scaler', StandardScaler()), ('ridge', Ridge())])\n",
    "ridge_params = {'ridge__alpha':[0.001,0.005,0.01,0.1,0.5,1,1.5,5,10],\\\n",
    "                'ridge__tol':[1e-06,5e-06,1e-05,5e-05]}\n",
    "grid_search_ridge = GridSearchCV(pipe_ridge, ridge_params,\\\n",
    "                    verbose=True, scoring='neg_mean_squared_error')"
   ]
  },
  {
   "cell_type": "code",
   "execution_count": 77,
   "id": "51b7b90e-7f9e-459a-8148-e85b6ad506a2",
   "metadata": {},
   "outputs": [
    {
     "name": "stdout",
     "output_type": "stream",
     "text": [
      "Fitting 5 folds for each of 36 candidates, totalling 180 fits\n"
     ]
    },
    {
     "data": {
      "text/html": [
       "<style>#sk-container-id-1 {color: black;}#sk-container-id-1 pre{padding: 0;}#sk-container-id-1 div.sk-toggleable {background-color: white;}#sk-container-id-1 label.sk-toggleable__label {cursor: pointer;display: block;width: 100%;margin-bottom: 0;padding: 0.3em;box-sizing: border-box;text-align: center;}#sk-container-id-1 label.sk-toggleable__label-arrow:before {content: \"▸\";float: left;margin-right: 0.25em;color: #696969;}#sk-container-id-1 label.sk-toggleable__label-arrow:hover:before {color: black;}#sk-container-id-1 div.sk-estimator:hover label.sk-toggleable__label-arrow:before {color: black;}#sk-container-id-1 div.sk-toggleable__content {max-height: 0;max-width: 0;overflow: hidden;text-align: left;background-color: #f0f8ff;}#sk-container-id-1 div.sk-toggleable__content pre {margin: 0.2em;color: black;border-radius: 0.25em;background-color: #f0f8ff;}#sk-container-id-1 input.sk-toggleable__control:checked~div.sk-toggleable__content {max-height: 200px;max-width: 100%;overflow: auto;}#sk-container-id-1 input.sk-toggleable__control:checked~label.sk-toggleable__label-arrow:before {content: \"▾\";}#sk-container-id-1 div.sk-estimator input.sk-toggleable__control:checked~label.sk-toggleable__label {background-color: #d4ebff;}#sk-container-id-1 div.sk-label input.sk-toggleable__control:checked~label.sk-toggleable__label {background-color: #d4ebff;}#sk-container-id-1 input.sk-hidden--visually {border: 0;clip: rect(1px 1px 1px 1px);clip: rect(1px, 1px, 1px, 1px);height: 1px;margin: -1px;overflow: hidden;padding: 0;position: absolute;width: 1px;}#sk-container-id-1 div.sk-estimator {font-family: monospace;background-color: #f0f8ff;border: 1px dotted black;border-radius: 0.25em;box-sizing: border-box;margin-bottom: 0.5em;}#sk-container-id-1 div.sk-estimator:hover {background-color: #d4ebff;}#sk-container-id-1 div.sk-parallel-item::after {content: \"\";width: 100%;border-bottom: 1px solid gray;flex-grow: 1;}#sk-container-id-1 div.sk-label:hover label.sk-toggleable__label {background-color: #d4ebff;}#sk-container-id-1 div.sk-serial::before {content: \"\";position: absolute;border-left: 1px solid gray;box-sizing: border-box;top: 0;bottom: 0;left: 50%;z-index: 0;}#sk-container-id-1 div.sk-serial {display: flex;flex-direction: column;align-items: center;background-color: white;padding-right: 0.2em;padding-left: 0.2em;position: relative;}#sk-container-id-1 div.sk-item {position: relative;z-index: 1;}#sk-container-id-1 div.sk-parallel {display: flex;align-items: stretch;justify-content: center;background-color: white;position: relative;}#sk-container-id-1 div.sk-item::before, #sk-container-id-1 div.sk-parallel-item::before {content: \"\";position: absolute;border-left: 1px solid gray;box-sizing: border-box;top: 0;bottom: 0;left: 50%;z-index: -1;}#sk-container-id-1 div.sk-parallel-item {display: flex;flex-direction: column;z-index: 1;position: relative;background-color: white;}#sk-container-id-1 div.sk-parallel-item:first-child::after {align-self: flex-end;width: 50%;}#sk-container-id-1 div.sk-parallel-item:last-child::after {align-self: flex-start;width: 50%;}#sk-container-id-1 div.sk-parallel-item:only-child::after {width: 0;}#sk-container-id-1 div.sk-dashed-wrapped {border: 1px dashed gray;margin: 0 0.4em 0.5em 0.4em;box-sizing: border-box;padding-bottom: 0.4em;background-color: white;}#sk-container-id-1 div.sk-label label {font-family: monospace;font-weight: bold;display: inline-block;line-height: 1.2em;}#sk-container-id-1 div.sk-label-container {text-align: center;}#sk-container-id-1 div.sk-container {/* jupyter's `normalize.less` sets `[hidden] { display: none; }` but bootstrap.min.css set `[hidden] { display: none !important; }` so we also need the `!important` here to be able to override the default hidden behavior on the sphinx rendered scikit-learn.org. See: https://github.com/scikit-learn/scikit-learn/issues/21755 */display: inline-block !important;position: relative;}#sk-container-id-1 div.sk-text-repr-fallback {display: none;}</style><div id=\"sk-container-id-1\" class=\"sk-top-container\"><div class=\"sk-text-repr-fallback\"><pre>GridSearchCV(estimator=Pipeline(steps=[(&#x27;scaler&#x27;, StandardScaler()),\n",
       "                                       (&#x27;ridge&#x27;, Ridge())]),\n",
       "             param_grid={&#x27;ridge__alpha&#x27;: [0.001, 0.005, 0.01, 0.1, 0.5, 1, 1.5,\n",
       "                                          5, 10],\n",
       "                         &#x27;ridge__tol&#x27;: [1e-06, 5e-06, 1e-05, 5e-05]},\n",
       "             scoring=&#x27;neg_mean_squared_error&#x27;, verbose=True)</pre><b>In a Jupyter environment, please rerun this cell to show the HTML representation or trust the notebook. <br />On GitHub, the HTML representation is unable to render, please try loading this page with nbviewer.org.</b></div><div class=\"sk-container\" hidden><div class=\"sk-item sk-dashed-wrapped\"><div class=\"sk-label-container\"><div class=\"sk-label sk-toggleable\"><input class=\"sk-toggleable__control sk-hidden--visually\" id=\"sk-estimator-id-1\" type=\"checkbox\" ><label for=\"sk-estimator-id-1\" class=\"sk-toggleable__label sk-toggleable__label-arrow\">GridSearchCV</label><div class=\"sk-toggleable__content\"><pre>GridSearchCV(estimator=Pipeline(steps=[(&#x27;scaler&#x27;, StandardScaler()),\n",
       "                                       (&#x27;ridge&#x27;, Ridge())]),\n",
       "             param_grid={&#x27;ridge__alpha&#x27;: [0.001, 0.005, 0.01, 0.1, 0.5, 1, 1.5,\n",
       "                                          5, 10],\n",
       "                         &#x27;ridge__tol&#x27;: [1e-06, 5e-06, 1e-05, 5e-05]},\n",
       "             scoring=&#x27;neg_mean_squared_error&#x27;, verbose=True)</pre></div></div></div><div class=\"sk-parallel\"><div class=\"sk-parallel-item\"><div class=\"sk-item\"><div class=\"sk-label-container\"><div class=\"sk-label sk-toggleable\"><input class=\"sk-toggleable__control sk-hidden--visually\" id=\"sk-estimator-id-2\" type=\"checkbox\" ><label for=\"sk-estimator-id-2\" class=\"sk-toggleable__label sk-toggleable__label-arrow\">estimator: Pipeline</label><div class=\"sk-toggleable__content\"><pre>Pipeline(steps=[(&#x27;scaler&#x27;, StandardScaler()), (&#x27;ridge&#x27;, Ridge())])</pre></div></div></div><div class=\"sk-serial\"><div class=\"sk-item\"><div class=\"sk-serial\"><div class=\"sk-item\"><div class=\"sk-estimator sk-toggleable\"><input class=\"sk-toggleable__control sk-hidden--visually\" id=\"sk-estimator-id-3\" type=\"checkbox\" ><label for=\"sk-estimator-id-3\" class=\"sk-toggleable__label sk-toggleable__label-arrow\">StandardScaler</label><div class=\"sk-toggleable__content\"><pre>StandardScaler()</pre></div></div></div><div class=\"sk-item\"><div class=\"sk-estimator sk-toggleable\"><input class=\"sk-toggleable__control sk-hidden--visually\" id=\"sk-estimator-id-4\" type=\"checkbox\" ><label for=\"sk-estimator-id-4\" class=\"sk-toggleable__label sk-toggleable__label-arrow\">Ridge</label><div class=\"sk-toggleable__content\"><pre>Ridge()</pre></div></div></div></div></div></div></div></div></div></div></div></div>"
      ],
      "text/plain": [
       "GridSearchCV(estimator=Pipeline(steps=[('scaler', StandardScaler()),\n",
       "                                       ('ridge', Ridge())]),\n",
       "             param_grid={'ridge__alpha': [0.001, 0.005, 0.01, 0.1, 0.5, 1, 1.5,\n",
       "                                          5, 10],\n",
       "                         'ridge__tol': [1e-06, 5e-06, 1e-05, 5e-05]},\n",
       "             scoring='neg_mean_squared_error', verbose=True)"
      ]
     },
     "execution_count": 77,
     "metadata": {},
     "output_type": "execute_result"
    }
   ],
   "source": [
    "grid_search_ridge.fit(X_train,y_train)"
   ]
  },
  {
   "cell_type": "code",
   "execution_count": 79,
   "id": "41b77984-5d62-4f46-8ad7-b77985167f85",
   "metadata": {},
   "outputs": [
    {
     "data": {
      "text/plain": [
       "{'ridge__alpha': 10, 'ridge__tol': 1e-06}"
      ]
     },
     "execution_count": 79,
     "metadata": {},
     "output_type": "execute_result"
    }
   ],
   "source": [
    "grid_search_ridge.best_params_"
   ]
  },
  {
   "cell_type": "code",
   "execution_count": 81,
   "id": "92846c44-5555-4dc3-80df-05716ade8f25",
   "metadata": {},
   "outputs": [
    {
     "data": {
      "text/plain": [
       "-22.767376507476634"
      ]
     },
     "execution_count": 81,
     "metadata": {},
     "output_type": "execute_result"
    }
   ],
   "source": [
    "grid_search_ridge.best_score_"
   ]
  },
  {
   "cell_type": "code",
   "execution_count": 89,
   "id": "0b3a5c1b-0cdc-4611-988b-0b9a8f09ffa4",
   "metadata": {},
   "outputs": [],
   "source": [
    "# grid_search_ridge.cv_results_"
   ]
  },
  {
   "cell_type": "code",
   "execution_count": 85,
   "id": "21ed5b14-beea-4965-b708-8a7d7a9dc7c7",
   "metadata": {},
   "outputs": [
    {
     "data": {
      "text/html": [
       "<style>#sk-container-id-2 {color: black;}#sk-container-id-2 pre{padding: 0;}#sk-container-id-2 div.sk-toggleable {background-color: white;}#sk-container-id-2 label.sk-toggleable__label {cursor: pointer;display: block;width: 100%;margin-bottom: 0;padding: 0.3em;box-sizing: border-box;text-align: center;}#sk-container-id-2 label.sk-toggleable__label-arrow:before {content: \"▸\";float: left;margin-right: 0.25em;color: #696969;}#sk-container-id-2 label.sk-toggleable__label-arrow:hover:before {color: black;}#sk-container-id-2 div.sk-estimator:hover label.sk-toggleable__label-arrow:before {color: black;}#sk-container-id-2 div.sk-toggleable__content {max-height: 0;max-width: 0;overflow: hidden;text-align: left;background-color: #f0f8ff;}#sk-container-id-2 div.sk-toggleable__content pre {margin: 0.2em;color: black;border-radius: 0.25em;background-color: #f0f8ff;}#sk-container-id-2 input.sk-toggleable__control:checked~div.sk-toggleable__content {max-height: 200px;max-width: 100%;overflow: auto;}#sk-container-id-2 input.sk-toggleable__control:checked~label.sk-toggleable__label-arrow:before {content: \"▾\";}#sk-container-id-2 div.sk-estimator input.sk-toggleable__control:checked~label.sk-toggleable__label {background-color: #d4ebff;}#sk-container-id-2 div.sk-label input.sk-toggleable__control:checked~label.sk-toggleable__label {background-color: #d4ebff;}#sk-container-id-2 input.sk-hidden--visually {border: 0;clip: rect(1px 1px 1px 1px);clip: rect(1px, 1px, 1px, 1px);height: 1px;margin: -1px;overflow: hidden;padding: 0;position: absolute;width: 1px;}#sk-container-id-2 div.sk-estimator {font-family: monospace;background-color: #f0f8ff;border: 1px dotted black;border-radius: 0.25em;box-sizing: border-box;margin-bottom: 0.5em;}#sk-container-id-2 div.sk-estimator:hover {background-color: #d4ebff;}#sk-container-id-2 div.sk-parallel-item::after {content: \"\";width: 100%;border-bottom: 1px solid gray;flex-grow: 1;}#sk-container-id-2 div.sk-label:hover label.sk-toggleable__label {background-color: #d4ebff;}#sk-container-id-2 div.sk-serial::before {content: \"\";position: absolute;border-left: 1px solid gray;box-sizing: border-box;top: 0;bottom: 0;left: 50%;z-index: 0;}#sk-container-id-2 div.sk-serial {display: flex;flex-direction: column;align-items: center;background-color: white;padding-right: 0.2em;padding-left: 0.2em;position: relative;}#sk-container-id-2 div.sk-item {position: relative;z-index: 1;}#sk-container-id-2 div.sk-parallel {display: flex;align-items: stretch;justify-content: center;background-color: white;position: relative;}#sk-container-id-2 div.sk-item::before, #sk-container-id-2 div.sk-parallel-item::before {content: \"\";position: absolute;border-left: 1px solid gray;box-sizing: border-box;top: 0;bottom: 0;left: 50%;z-index: -1;}#sk-container-id-2 div.sk-parallel-item {display: flex;flex-direction: column;z-index: 1;position: relative;background-color: white;}#sk-container-id-2 div.sk-parallel-item:first-child::after {align-self: flex-end;width: 50%;}#sk-container-id-2 div.sk-parallel-item:last-child::after {align-self: flex-start;width: 50%;}#sk-container-id-2 div.sk-parallel-item:only-child::after {width: 0;}#sk-container-id-2 div.sk-dashed-wrapped {border: 1px dashed gray;margin: 0 0.4em 0.5em 0.4em;box-sizing: border-box;padding-bottom: 0.4em;background-color: white;}#sk-container-id-2 div.sk-label label {font-family: monospace;font-weight: bold;display: inline-block;line-height: 1.2em;}#sk-container-id-2 div.sk-label-container {text-align: center;}#sk-container-id-2 div.sk-container {/* jupyter's `normalize.less` sets `[hidden] { display: none; }` but bootstrap.min.css set `[hidden] { display: none !important; }` so we also need the `!important` here to be able to override the default hidden behavior on the sphinx rendered scikit-learn.org. See: https://github.com/scikit-learn/scikit-learn/issues/21755 */display: inline-block !important;position: relative;}#sk-container-id-2 div.sk-text-repr-fallback {display: none;}</style><div id=\"sk-container-id-2\" class=\"sk-top-container\"><div class=\"sk-text-repr-fallback\"><pre>Pipeline(steps=[(&#x27;scaler&#x27;, StandardScaler()),\n",
       "                (&#x27;ridge&#x27;, Ridge(alpha=10, tol=1e-06))])</pre><b>In a Jupyter environment, please rerun this cell to show the HTML representation or trust the notebook. <br />On GitHub, the HTML representation is unable to render, please try loading this page with nbviewer.org.</b></div><div class=\"sk-container\" hidden><div class=\"sk-item sk-dashed-wrapped\"><div class=\"sk-label-container\"><div class=\"sk-label sk-toggleable\"><input class=\"sk-toggleable__control sk-hidden--visually\" id=\"sk-estimator-id-5\" type=\"checkbox\" ><label for=\"sk-estimator-id-5\" class=\"sk-toggleable__label sk-toggleable__label-arrow\">Pipeline</label><div class=\"sk-toggleable__content\"><pre>Pipeline(steps=[(&#x27;scaler&#x27;, StandardScaler()),\n",
       "                (&#x27;ridge&#x27;, Ridge(alpha=10, tol=1e-06))])</pre></div></div></div><div class=\"sk-serial\"><div class=\"sk-item\"><div class=\"sk-estimator sk-toggleable\"><input class=\"sk-toggleable__control sk-hidden--visually\" id=\"sk-estimator-id-6\" type=\"checkbox\" ><label for=\"sk-estimator-id-6\" class=\"sk-toggleable__label sk-toggleable__label-arrow\">StandardScaler</label><div class=\"sk-toggleable__content\"><pre>StandardScaler()</pre></div></div></div><div class=\"sk-item\"><div class=\"sk-estimator sk-toggleable\"><input class=\"sk-toggleable__control sk-hidden--visually\" id=\"sk-estimator-id-7\" type=\"checkbox\" ><label for=\"sk-estimator-id-7\" class=\"sk-toggleable__label sk-toggleable__label-arrow\">Ridge</label><div class=\"sk-toggleable__content\"><pre>Ridge(alpha=10, tol=1e-06)</pre></div></div></div></div></div></div></div>"
      ],
      "text/plain": [
       "Pipeline(steps=[('scaler', StandardScaler()),\n",
       "                ('ridge', Ridge(alpha=10, tol=1e-06))])"
      ]
     },
     "execution_count": 85,
     "metadata": {},
     "output_type": "execute_result"
    }
   ],
   "source": [
    "grid_search_ridge.best_estimator_.fit(X_train_sc,y_train)"
   ]
  },
  {
   "cell_type": "code",
   "execution_count": 87,
   "id": "b53a68bf-28e8-43f5-abc9-5e93b30248a8",
   "metadata": {},
   "outputs": [
    {
     "name": "stdout",
     "output_type": "stream",
     "text": [
      "\n",
      "Holdout estimation\n",
      "R^2: 0.67\n",
      "RMSE: 5.26\n",
      "MAE: 3.61\n"
     ]
    }
   ],
   "source": [
    "holdout_performance(grid_search_ridge.best_estimator_,X_test_sc,y_test)"
   ]
  },
  {
   "cell_type": "code",
   "execution_count": 91,
   "id": "e93809b9-eedf-4376-8a34-5214d32e5ed0",
   "metadata": {},
   "outputs": [],
   "source": [
    "pipe_lasso = Pipeline([('scaler', StandardScaler()), ('lasso', Lasso())])\n",
    "lasso_params = {'lasso__alpha':[0.001,0.005,0.01,0.1,0.5,1,1.5,5,10],\\\n",
    "                'lasso__tol':[1e-06,5e-06,1e-05,5e-05]}\n",
    "grid_search_lasso = GridSearchCV(pipe_lasso,lasso_params)"
   ]
  },
  {
   "cell_type": "code",
   "execution_count": 93,
   "id": "bf6fed8b-89e1-4519-b315-bb15f34c44be",
   "metadata": {},
   "outputs": [
    {
     "data": {
      "text/plain": [
       "{'lasso__alpha': 0.01, 'lasso__tol': 5e-05}"
      ]
     },
     "execution_count": 93,
     "metadata": {},
     "output_type": "execute_result"
    }
   ],
   "source": [
    "grid_search_lasso.fit(X_train,y_train)\n",
    "grid_search_lasso.best_params_"
   ]
  },
  {
   "cell_type": "code",
   "execution_count": 95,
   "id": "10c27cd0-f4bb-4bd6-9580-9814b7c1891a",
   "metadata": {},
   "outputs": [],
   "source": [
    "pipe_sgd = Pipeline([('scaler', StandardScaler()), ('sgd', SGDRegressor())])\n",
    "sgd_params = {'sgd__max_iter' :[100,1000,10000],\n",
    "              'sgd__alpha':[1e-05,0.001,0.005,0.01,0.1,0.5,1,1.5,5,10],\n",
    "              'sgd__learning_rate': ['constant','optimal','invscaling','adaptive']}\n",
    "grid_search_sgd = GridSearchCV(pipe_sgd,sgd_params)"
   ]
  },
  {
   "cell_type": "code",
   "execution_count": 99,
   "id": "c89735c6-51ed-4ef3-93e7-99d3709d0374",
   "metadata": {},
   "outputs": [],
   "source": [
    "# grid_search_sgd.fit(X_train,y_train)\n",
    "# grid_search_sgd.best_params_"
   ]
  },
  {
   "cell_type": "code",
   "execution_count": 101,
   "id": "a3e399b2-74f7-4202-ac55-b7c90e540676",
   "metadata": {},
   "outputs": [],
   "source": [
    "rt_params = {'max_depth':[5,10,15,20],\\\n",
    "            'min_impurity_decrease':[0,0.01,0.05],\\\n",
    "            'criterion': ['squared_error','friedman_mse','absolute_error', 'poisson']}\n",
    "grid_search_rt = GridSearchCV(DecisionTreeRegressor(),rt_params)"
   ]
  },
  {
   "cell_type": "code",
   "execution_count": 103,
   "id": "e54932c2-a725-4ea8-873e-2858af6b710b",
   "metadata": {},
   "outputs": [
    {
     "data": {
      "text/html": [
       "<style>#sk-container-id-3 {color: black;}#sk-container-id-3 pre{padding: 0;}#sk-container-id-3 div.sk-toggleable {background-color: white;}#sk-container-id-3 label.sk-toggleable__label {cursor: pointer;display: block;width: 100%;margin-bottom: 0;padding: 0.3em;box-sizing: border-box;text-align: center;}#sk-container-id-3 label.sk-toggleable__label-arrow:before {content: \"▸\";float: left;margin-right: 0.25em;color: #696969;}#sk-container-id-3 label.sk-toggleable__label-arrow:hover:before {color: black;}#sk-container-id-3 div.sk-estimator:hover label.sk-toggleable__label-arrow:before {color: black;}#sk-container-id-3 div.sk-toggleable__content {max-height: 0;max-width: 0;overflow: hidden;text-align: left;background-color: #f0f8ff;}#sk-container-id-3 div.sk-toggleable__content pre {margin: 0.2em;color: black;border-radius: 0.25em;background-color: #f0f8ff;}#sk-container-id-3 input.sk-toggleable__control:checked~div.sk-toggleable__content {max-height: 200px;max-width: 100%;overflow: auto;}#sk-container-id-3 input.sk-toggleable__control:checked~label.sk-toggleable__label-arrow:before {content: \"▾\";}#sk-container-id-3 div.sk-estimator input.sk-toggleable__control:checked~label.sk-toggleable__label {background-color: #d4ebff;}#sk-container-id-3 div.sk-label input.sk-toggleable__control:checked~label.sk-toggleable__label {background-color: #d4ebff;}#sk-container-id-3 input.sk-hidden--visually {border: 0;clip: rect(1px 1px 1px 1px);clip: rect(1px, 1px, 1px, 1px);height: 1px;margin: -1px;overflow: hidden;padding: 0;position: absolute;width: 1px;}#sk-container-id-3 div.sk-estimator {font-family: monospace;background-color: #f0f8ff;border: 1px dotted black;border-radius: 0.25em;box-sizing: border-box;margin-bottom: 0.5em;}#sk-container-id-3 div.sk-estimator:hover {background-color: #d4ebff;}#sk-container-id-3 div.sk-parallel-item::after {content: \"\";width: 100%;border-bottom: 1px solid gray;flex-grow: 1;}#sk-container-id-3 div.sk-label:hover label.sk-toggleable__label {background-color: #d4ebff;}#sk-container-id-3 div.sk-serial::before {content: \"\";position: absolute;border-left: 1px solid gray;box-sizing: border-box;top: 0;bottom: 0;left: 50%;z-index: 0;}#sk-container-id-3 div.sk-serial {display: flex;flex-direction: column;align-items: center;background-color: white;padding-right: 0.2em;padding-left: 0.2em;position: relative;}#sk-container-id-3 div.sk-item {position: relative;z-index: 1;}#sk-container-id-3 div.sk-parallel {display: flex;align-items: stretch;justify-content: center;background-color: white;position: relative;}#sk-container-id-3 div.sk-item::before, #sk-container-id-3 div.sk-parallel-item::before {content: \"\";position: absolute;border-left: 1px solid gray;box-sizing: border-box;top: 0;bottom: 0;left: 50%;z-index: -1;}#sk-container-id-3 div.sk-parallel-item {display: flex;flex-direction: column;z-index: 1;position: relative;background-color: white;}#sk-container-id-3 div.sk-parallel-item:first-child::after {align-self: flex-end;width: 50%;}#sk-container-id-3 div.sk-parallel-item:last-child::after {align-self: flex-start;width: 50%;}#sk-container-id-3 div.sk-parallel-item:only-child::after {width: 0;}#sk-container-id-3 div.sk-dashed-wrapped {border: 1px dashed gray;margin: 0 0.4em 0.5em 0.4em;box-sizing: border-box;padding-bottom: 0.4em;background-color: white;}#sk-container-id-3 div.sk-label label {font-family: monospace;font-weight: bold;display: inline-block;line-height: 1.2em;}#sk-container-id-3 div.sk-label-container {text-align: center;}#sk-container-id-3 div.sk-container {/* jupyter's `normalize.less` sets `[hidden] { display: none; }` but bootstrap.min.css set `[hidden] { display: none !important; }` so we also need the `!important` here to be able to override the default hidden behavior on the sphinx rendered scikit-learn.org. See: https://github.com/scikit-learn/scikit-learn/issues/21755 */display: inline-block !important;position: relative;}#sk-container-id-3 div.sk-text-repr-fallback {display: none;}</style><div id=\"sk-container-id-3\" class=\"sk-top-container\"><div class=\"sk-text-repr-fallback\"><pre>GridSearchCV(estimator=DecisionTreeRegressor(),\n",
       "             param_grid={&#x27;criterion&#x27;: [&#x27;squared_error&#x27;, &#x27;friedman_mse&#x27;,\n",
       "                                       &#x27;absolute_error&#x27;, &#x27;poisson&#x27;],\n",
       "                         &#x27;max_depth&#x27;: [5, 10, 15, 20],\n",
       "                         &#x27;min_impurity_decrease&#x27;: [0, 0.01, 0.05]})</pre><b>In a Jupyter environment, please rerun this cell to show the HTML representation or trust the notebook. <br />On GitHub, the HTML representation is unable to render, please try loading this page with nbviewer.org.</b></div><div class=\"sk-container\" hidden><div class=\"sk-item sk-dashed-wrapped\"><div class=\"sk-label-container\"><div class=\"sk-label sk-toggleable\"><input class=\"sk-toggleable__control sk-hidden--visually\" id=\"sk-estimator-id-8\" type=\"checkbox\" ><label for=\"sk-estimator-id-8\" class=\"sk-toggleable__label sk-toggleable__label-arrow\">GridSearchCV</label><div class=\"sk-toggleable__content\"><pre>GridSearchCV(estimator=DecisionTreeRegressor(),\n",
       "             param_grid={&#x27;criterion&#x27;: [&#x27;squared_error&#x27;, &#x27;friedman_mse&#x27;,\n",
       "                                       &#x27;absolute_error&#x27;, &#x27;poisson&#x27;],\n",
       "                         &#x27;max_depth&#x27;: [5, 10, 15, 20],\n",
       "                         &#x27;min_impurity_decrease&#x27;: [0, 0.01, 0.05]})</pre></div></div></div><div class=\"sk-parallel\"><div class=\"sk-parallel-item\"><div class=\"sk-item\"><div class=\"sk-label-container\"><div class=\"sk-label sk-toggleable\"><input class=\"sk-toggleable__control sk-hidden--visually\" id=\"sk-estimator-id-9\" type=\"checkbox\" ><label for=\"sk-estimator-id-9\" class=\"sk-toggleable__label sk-toggleable__label-arrow\">estimator: DecisionTreeRegressor</label><div class=\"sk-toggleable__content\"><pre>DecisionTreeRegressor()</pre></div></div></div><div class=\"sk-serial\"><div class=\"sk-item\"><div class=\"sk-estimator sk-toggleable\"><input class=\"sk-toggleable__control sk-hidden--visually\" id=\"sk-estimator-id-10\" type=\"checkbox\" ><label for=\"sk-estimator-id-10\" class=\"sk-toggleable__label sk-toggleable__label-arrow\">DecisionTreeRegressor</label><div class=\"sk-toggleable__content\"><pre>DecisionTreeRegressor()</pre></div></div></div></div></div></div></div></div></div></div>"
      ],
      "text/plain": [
       "GridSearchCV(estimator=DecisionTreeRegressor(),\n",
       "             param_grid={'criterion': ['squared_error', 'friedman_mse',\n",
       "                                       'absolute_error', 'poisson'],\n",
       "                         'max_depth': [5, 10, 15, 20],\n",
       "                         'min_impurity_decrease': [0, 0.01, 0.05]})"
      ]
     },
     "execution_count": 103,
     "metadata": {},
     "output_type": "execute_result"
    }
   ],
   "source": [
    "grid_search_rt.fit(X_train,y_train)"
   ]
  },
  {
   "cell_type": "code",
   "execution_count": 105,
   "id": "71648886-02d2-49c2-8f23-7db8c0f09fd0",
   "metadata": {},
   "outputs": [
    {
     "data": {
      "text/plain": [
       "{'criterion': 'poisson', 'max_depth': 5, 'min_impurity_decrease': 0}"
      ]
     },
     "execution_count": 105,
     "metadata": {},
     "output_type": "execute_result"
    }
   ],
   "source": [
    "grid_search_rt.best_params_"
   ]
  },
  {
   "cell_type": "code",
   "execution_count": 109,
   "id": "4227b2f6-dccf-44e7-a640-65b33701b8c8",
   "metadata": {},
   "outputs": [],
   "source": [
    "# plot_tree(grid_search_rt.best_estimator_)"
   ]
  },
  {
   "cell_type": "code",
   "execution_count": 111,
   "id": "c9e88a8b-9df3-4511-8cd6-c21aad6d0e78",
   "metadata": {},
   "outputs": [
    {
     "name": "stdout",
     "output_type": "stream",
     "text": [
      "\n",
      "Holdout estimation\n",
      "R^2: 0.71\n",
      "RMSE: 4.92\n",
      "MAE: 3.14\n"
     ]
    }
   ],
   "source": [
    "holdout_performance(grid_search_rt.best_estimator_,X_test,y_test)"
   ]
  },
  {
   "cell_type": "code",
   "execution_count": 113,
   "id": "e1f032bc-40bc-4ea0-bf6a-07aee42979ca",
   "metadata": {},
   "outputs": [
    {
     "data": {
      "text/plain": [
       "array([0.07631448, 0.        , 0.00304996, 0.        , 0.        ,\n",
       "       0.2097431 , 0.00202808, 0.00666104, 0.        , 0.01624258,\n",
       "       0.02357077, 0.0049242 , 0.65746578])"
      ]
     },
     "execution_count": 113,
     "metadata": {},
     "output_type": "execute_result"
    }
   ],
   "source": [
    "grid_search_rt.best_estimator_.tree_.compute_feature_importances()"
   ]
  },
  {
   "cell_type": "code",
   "execution_count": null,
   "id": "29c1af24-cf75-4d7f-84b7-e8dac94af1c7",
   "metadata": {},
   "outputs": [],
   "source": []
  }
 ],
 "metadata": {
  "kernelspec": {
   "display_name": "anaconda-panel-2023.05-py310",
   "language": "python",
   "name": "conda-env-anaconda-panel-2023.05-py310-py"
  },
  "language_info": {
   "codemirror_mode": {
    "name": "ipython",
    "version": 3
   },
   "file_extension": ".py",
   "mimetype": "text/x-python",
   "name": "python",
   "nbconvert_exporter": "python",
   "pygments_lexer": "ipython3",
   "version": "3.11.5"
  }
 },
 "nbformat": 4,
 "nbformat_minor": 5
}
