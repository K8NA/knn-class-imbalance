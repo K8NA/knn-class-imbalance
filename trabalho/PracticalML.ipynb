{
 "cells": [
  {
   "cell_type": "markdown",
   "source": [
    "PRACTICAL ASSIGNMENT ML I"
   ],
   "metadata": {
    "collapsed": false
   },
   "id": "641e103386ba8bd8"
  },
  {
   "cell_type": "code",
   "execution_count": 4,
   "id": "12b2d9b2-a034-4964-b507-94e810d3a8fc",
   "metadata": {
    "ExecuteTime": {
     "end_time": "2024-04-30T16:58:51.565696400Z",
     "start_time": "2024-04-30T16:58:51.093438200Z"
    }
   },
   "outputs": [],
   "source": [
    "import openml\n",
    "from sklearn.neighbors import KNeighborsClassifier\n",
    "from sklearn.pipeline import make_pipeline\n",
    "from sklearn.model_selection import cross_val_score\n",
    "from sklearn.preprocessing import StandardScaler\n",
    "from sklearn.impute import SimpleImputer\n",
    "import pandas as pd\n",
    "import numpy as np\n",
    "import scipy.stats as ss\n",
    "import matplotlib.pyplot as plt"
   ]
  },
  {
   "cell_type": "code",
   "execution_count": 5,
   "outputs": [
    {
     "name": "stderr",
     "output_type": "stream",
     "text": [
      "C:\\Users\\lemon\\AppData\\Local\\Temp\\ipykernel_7752\\1263527795.py:1: FutureWarning: Starting from Version 0.15 `download_data`, `download_qualities`, and `download_features_meta_data` will all be ``False`` instead of ``True`` by default to enable lazy loading. To disable this message until version 0.15 explicitly set `download_data`, `download_qualities`, and `download_features_meta_data` to a bool while calling `get_dataset`.\n",
      "  dataset = openml.datasets.get_dataset(31)\n"
     ]
    }
   ],
   "source": [
    "dataset = openml.datasets.get_dataset(31)"
   ],
   "metadata": {
    "collapsed": false,
    "ExecuteTime": {
     "end_time": "2024-04-30T16:59:18.461511300Z",
     "start_time": "2024-04-30T16:59:09.720237900Z"
    }
   },
   "id": "dd1e4ee469998854"
  },
  {
   "cell_type": "code",
   "execution_count": null,
   "outputs": [],
   "source": [],
   "metadata": {
    "collapsed": false
   },
   "id": "11c141f18dedcac7"
  }
 ],
 "metadata": {
  "kernelspec": {
   "name": "python3",
   "language": "python",
   "display_name": "Python 3 (ipykernel)"
  },
  "language_info": {
   "codemirror_mode": {
    "name": "ipython",
    "version": 3
   },
   "file_extension": ".py",
   "mimetype": "text/x-python",
   "name": "python",
   "nbconvert_exporter": "python",
   "pygments_lexer": "ipython3",
   "version": "3.11.5"
  }
 },
 "nbformat": 4,
 "nbformat_minor": 5
}
