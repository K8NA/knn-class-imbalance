{
 "cells": [
  {
   "cell_type": "markdown",
   "source": [
    "PRACTICAL ASSIGNMENT ML I"
   ],
   "metadata": {
    "collapsed": false
   },
   "id": "641e103386ba8bd8"
  },
  {
   "metadata": {},
   "cell_type": "markdown",
   "source": [
    "| id    | name                             |\n",
    "|-------|----------------------------------|\n",
    "| 31    | credit-g                         |\n",
    "| 38    | sick                             |\n",
    "| 1053  | jm1                              |\n",
    "| 1067  | kc1                              |\n",
    "| 1068  | pc1                              |\n",
    "| 1461  | bank-marketing                   |\n",
    "| 1464  | blood-transfusion-service-center |\n",
    "| 1487  | ozone-level-8hr                  |\n",
    "| 1590  | adult                            |\n",
    "| 40701 | churn                            |\n",
    "| 40983 | wilt                             |\n",
    "| 40994 | climate-model-simulation-crashes |\n"
   ],
   "id": "d8768e827348586a"
  },
  {
   "cell_type": "code",
   "id": "12b2d9b2-a034-4964-b507-94e810d3a8fc",
   "metadata": {
    "ExecuteTime": {
     "end_time": "2024-05-02T23:15:11.952078Z",
     "start_time": "2024-05-02T23:15:11.945875Z"
    }
   },
   "source": [
    "import openml\n",
    "from sklearn.neighbors import KNeighborsClassifier\n",
    "from sklearn.pipeline import make_pipeline\n",
    "from sklearn.model_selection import cross_val_score\n",
    "from sklearn.preprocessing import StandardScaler\n",
    "from sklearn.impute import SimpleImputer\n",
    "import pandas as pd\n",
    "import numpy as np\n",
    "import scipy.stats as ss\n",
    "import matplotlib.pyplot as plt"
   ],
   "outputs": [],
   "execution_count": 9
  },
  {
   "cell_type": "code",
   "source": "dataset31 = openml.datasets.get_dataset(31, download_data=True, download_qualities=True, download_features_meta_data=True)",
   "metadata": {
    "collapsed": false,
    "ExecuteTime": {
     "end_time": "2024-05-02T23:19:36.018812Z",
     "start_time": "2024-05-02T23:19:35.999219Z"
    }
   },
   "id": "dd1e4ee469998854",
   "outputs": [],
   "execution_count": 20
  },
  {
   "metadata": {},
   "cell_type": "code",
   "outputs": [],
   "execution_count": null,
   "source": "",
   "id": "63f5da9b2ef9c0d4"
  }
 ],
 "metadata": {
  "kernelspec": {
   "name": "python3",
   "language": "python",
   "display_name": "Python 3 (ipykernel)"
  },
  "language_info": {
   "codemirror_mode": {
    "name": "ipython",
    "version": 3
   },
   "file_extension": ".py",
   "mimetype": "text/x-python",
   "name": "python",
   "nbconvert_exporter": "python",
   "pygments_lexer": "ipython3",
   "version": "3.11.5"
  }
 },
 "nbformat": 4,
 "nbformat_minor": 5
}
