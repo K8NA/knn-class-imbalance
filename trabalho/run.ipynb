{
 "cells": [
  {
   "metadata": {},
   "cell_type": "markdown",
   "source": [
    "PRACTICAL ASSIGNMENT ML I: \n",
    "Altering the KNN algorithm by assigning weights to datapoints in order to improve the F1-score metric of binary classification targets in heavily imbalanced numeric datasets."
   ],
   "id": "bf5901a7a62c5853"
  },
  {
   "metadata": {
    "ExecuteTime": {
     "end_time": "2024-05-19T23:01:36.885845Z",
     "start_time": "2024-05-19T23:01:36.779848Z"
    }
   },
   "cell_type": "code",
   "source": [
    "import openml\n",
    "import warnings\n",
    "\n",
    "from mla.knn import KNNClassifier\n",
    "from mla.metrics import accuracy\n",
    "\n",
    "from sklearn.model_selection import train_test_split\n",
    "from sklearn.model_selection import cross_val_score\n",
    "from sklearn.metrics import f1_score, recall_score, precision_score\n",
    "from sklearn.tree import DecisionTreeClassifier\n",
    "from sklearn.neighbors import KNeighborsClassifier\n",
    "from sklearn.linear_model import LogisticRegression\n",
    "from sklearn.pipeline import make_pipeline\n",
    "from sklearn.preprocessing import StandardScaler\n",
    "from sklearn.impute import SimpleImputer\n",
    "\n",
    "import pandas as pd\n",
    "import numpy as np\n",
    "import scipy.stats as ss\n",
    "import scikit_posthocs as sp\n",
    "import matplotlib.pyplot as plt"
   ],
   "id": "e4b53214eaef7184",
   "outputs": [
    {
     "ename": "ModuleNotFoundError",
     "evalue": "No module named 'autograd'",
     "output_type": "error",
     "traceback": [
      "\u001B[1;31m---------------------------------------------------------------------------\u001B[0m",
      "\u001B[1;31mModuleNotFoundError\u001B[0m                       Traceback (most recent call last)",
      "Cell \u001B[1;32mIn[2], line 5\u001B[0m\n\u001B[0;32m      2\u001B[0m \u001B[38;5;28;01mimport\u001B[39;00m \u001B[38;5;21;01mwarnings\u001B[39;00m\n\u001B[0;32m      4\u001B[0m \u001B[38;5;28;01mfrom\u001B[39;00m \u001B[38;5;21;01mmla\u001B[39;00m\u001B[38;5;21;01m.\u001B[39;00m\u001B[38;5;21;01mknn\u001B[39;00m \u001B[38;5;28;01mimport\u001B[39;00m KNNClassifier\n\u001B[1;32m----> 5\u001B[0m \u001B[38;5;28;01mfrom\u001B[39;00m \u001B[38;5;21;01mmla\u001B[39;00m\u001B[38;5;21;01m.\u001B[39;00m\u001B[38;5;21;01mmetrics\u001B[39;00m \u001B[38;5;28;01mimport\u001B[39;00m accuracy\n\u001B[0;32m      7\u001B[0m \u001B[38;5;28;01mfrom\u001B[39;00m \u001B[38;5;21;01msklearn\u001B[39;00m\u001B[38;5;21;01m.\u001B[39;00m\u001B[38;5;21;01mmodel_selection\u001B[39;00m \u001B[38;5;28;01mimport\u001B[39;00m train_test_split\n\u001B[0;32m      8\u001B[0m \u001B[38;5;28;01mfrom\u001B[39;00m \u001B[38;5;21;01msklearn\u001B[39;00m\u001B[38;5;21;01m.\u001B[39;00m\u001B[38;5;21;01mmodel_selection\u001B[39;00m \u001B[38;5;28;01mimport\u001B[39;00m cross_val_score\n",
      "File \u001B[1;32m~\\Desktop\\CC2008AC\\PLs\\knn-class-imbalance\\mla\\metrics\\__init__.py:2\u001B[0m\n\u001B[0;32m      1\u001B[0m \u001B[38;5;66;03m# coding:utf-8\u001B[39;00m\n\u001B[1;32m----> 2\u001B[0m \u001B[38;5;28;01mfrom\u001B[39;00m \u001B[38;5;21;01m.\u001B[39;00m\u001B[38;5;21;01mmetrics\u001B[39;00m \u001B[38;5;28;01mimport\u001B[39;00m \u001B[38;5;241m*\u001B[39m\n",
      "File \u001B[1;32m~\\Desktop\\CC2008AC\\PLs\\knn-class-imbalance\\mla\\metrics\\metrics.py:2\u001B[0m\n\u001B[0;32m      1\u001B[0m \u001B[38;5;66;03m# coding:utf-8\u001B[39;00m\n\u001B[1;32m----> 2\u001B[0m \u001B[38;5;28;01mimport\u001B[39;00m \u001B[38;5;21;01mautograd\u001B[39;00m\u001B[38;5;21;01m.\u001B[39;00m\u001B[38;5;21;01mnumpy\u001B[39;00m \u001B[38;5;28;01mas\u001B[39;00m \u001B[38;5;21;01mnp\u001B[39;00m\n\u001B[0;32m      4\u001B[0m EPS \u001B[38;5;241m=\u001B[39m \u001B[38;5;241m1e-15\u001B[39m\n\u001B[0;32m      7\u001B[0m \u001B[38;5;28;01mdef\u001B[39;00m \u001B[38;5;21munhot\u001B[39m(function):\n",
      "\u001B[1;31mModuleNotFoundError\u001B[0m: No module named 'autograd'"
     ]
    }
   ],
   "execution_count": 2
  },
  {
   "metadata": {},
   "cell_type": "code",
   "source": [
    "#Suprimir avisos futuros \n",
    "warnings.simplefilter(action='ignore', category=FutureWarning)"
   ],
   "id": "4b77c1d022d1c2a3",
   "outputs": [],
   "execution_count": null
  },
  {
   "metadata": {},
   "cell_type": "code",
   "source": [
    "#Carregar dataset\n",
    "dataset = openml.datasets.get_dataset(1464, download_data=True)\n",
    "X, y, _, _ = dataset.get_data(target=dataset.default_target_attribute)"
   ],
   "id": "3093f51278bfbc7c",
   "outputs": [],
   "execution_count": null
  },
  {
   "metadata": {},
   "cell_type": "code",
   "source": [
    "#Dividir em sets de treino e de teste\n",
    "X_train, X_test, y_train, y_test = train_test_split(X, y, test_size=0.2, random_state=222)"
   ],
   "id": "7c5cc125805a5119",
   "outputs": [],
   "execution_count": null
  },
  {
   "metadata": {},
   "cell_type": "code",
   "source": [
    "#Inicializar o classificador KNN \n",
    "knn = KNNClassifier(k=5)"
   ],
   "id": "edd3ab96040baf52",
   "outputs": [],
   "execution_count": null
  },
  {
   "metadata": {},
   "cell_type": "code",
   "source": [
    "#Treino\n",
    "knn.fit(X_train, y_train)"
   ],
   "id": "87cd1fc68d73d83d",
   "outputs": [],
   "execution_count": null
  },
  {
   "metadata": {
    "ExecuteTime": {
     "end_time": "2024-05-19T23:01:36.949844Z",
     "start_time": "2024-05-19T23:01:36.912846Z"
    }
   },
   "cell_type": "code",
   "source": [
    "#Predição\n",
    "y_pred = knn.predict(X_test)"
   ],
   "id": "af3985b4baeefab8",
   "outputs": [
    {
     "ename": "NameError",
     "evalue": "name 'knn' is not defined",
     "output_type": "error",
     "traceback": [
      "\u001B[1;31m---------------------------------------------------------------------------\u001B[0m",
      "\u001B[1;31mNameError\u001B[0m                                 Traceback (most recent call last)",
      "Cell \u001B[1;32mIn[3], line 2\u001B[0m\n\u001B[0;32m      1\u001B[0m \u001B[38;5;66;03m#Predição\u001B[39;00m\n\u001B[1;32m----> 2\u001B[0m y_pred \u001B[38;5;241m=\u001B[39m \u001B[43mknn\u001B[49m\u001B[38;5;241m.\u001B[39mpredict(X_test)\n",
      "\u001B[1;31mNameError\u001B[0m: name 'knn' is not defined"
     ]
    }
   ],
   "execution_count": 3
  },
  {
   "metadata": {
    "ExecuteTime": {
     "end_time": "2024-05-19T23:01:36.951846Z",
     "start_time": "2024-05-19T23:01:36.951846Z"
    }
   },
   "cell_type": "code",
   "source": [
    "def run_benchmark(models, model_names, benchmark=\"OpenML-CC18\"):\n",
    "    results = pd.DataFrame(columns=[\"dataset\", \"model\", \"score\"]) # create dataframe for results\n",
    "    benchmark_suite = openml.study.get_suite(benchmark) # obtain the benchmark suite\n",
    "\n",
    "    # datasets IDs \n",
    "        # 40983\n",
    "        # 40994\n",
    "        # 1464\n",
    "        # 1487\n",
    "        # 1494\n",
    "        # 1489\n",
    "        # 1068\n",
    "        # 1067\n",
    "        # 1063\n",
    "        # 1053\n",
    "        # 1050\n",
    "        # 1049\n",
    "    subset_benchmark_suite = benchmark_suite.tasks[0:10] \n",
    "\n",
    "    #for task_id in benchmark_suite.tasks:  # iterate over all tasks\n",
    "    for task_id in subset_benchmark_suite: # iterate over subset tasks\n",
    "        task = openml.tasks.get_task(task_id)  # download the OpenML task\n",
    "        features, targets = task.get_X_and_y()  # get the data\n",
    "        for model in range(len(models)): # iterate over all models\n",
    "            score = np.mean(cross_val_score(models[model], features, targets, cv=10, scoring=\"roc_auc_ovr\")) \n",
    "            if model_names:\n",
    "                results = pd.concat([results, pd.DataFrame([[task_id, model_names[model], score]], columns=results.columns)], ignore_index=True)\n",
    "            else:\n",
    "                results = pd.concat([results, pd.DataFrame([[task_id, str(models[model]), score]], columns=results.columns)], ignore_index=True) \n",
    "    results.to_csv(\"results.csv\", index=False)\n",
    "    "
   ],
   "id": "c5f263284e7c9e73",
   "outputs": [],
   "execution_count": null
  },
  {
   "metadata": {
    "ExecuteTime": {
     "end_time": "2024-05-19T23:01:37.012849Z",
     "start_time": "2024-05-19T23:01:36.980845Z"
    }
   },
   "cell_type": "code",
   "source": [
    "KNN = make_pipeline(SimpleImputer(strategy='constant'),StandardScaler(),KNeighborsClassifier())\n",
    "KNN2 = make_pipeline(SimpleImputer(strategy='constant'),StandardScaler(),KNeighborsClassifier())\n",
    "models = [KNN, KNN2]\n",
    "model_names = [\"KNN\",\"KNN2\"]\n",
    "run_benchmark(models=models, model_names=model_names)"
   ],
   "id": "d409cdd1b7b6449e",
   "outputs": [
    {
     "ename": "NameError",
     "evalue": "name 'make_pipeline' is not defined",
     "output_type": "error",
     "traceback": [
      "\u001B[1;31m---------------------------------------------------------------------------\u001B[0m",
      "\u001B[1;31mNameError\u001B[0m                                 Traceback (most recent call last)",
      "Cell \u001B[1;32mIn[4], line 1\u001B[0m\n\u001B[1;32m----> 1\u001B[0m KNN \u001B[38;5;241m=\u001B[39m \u001B[43mmake_pipeline\u001B[49m(SimpleImputer(strategy\u001B[38;5;241m=\u001B[39m\u001B[38;5;124m'\u001B[39m\u001B[38;5;124mconstant\u001B[39m\u001B[38;5;124m'\u001B[39m),StandardScaler(),KNeighborsClassifier())\n\u001B[0;32m      2\u001B[0m KNN2 \u001B[38;5;241m=\u001B[39m make_pipeline(SimpleImputer(strategy\u001B[38;5;241m=\u001B[39m\u001B[38;5;124m'\u001B[39m\u001B[38;5;124mconstant\u001B[39m\u001B[38;5;124m'\u001B[39m),StandardScaler(),KNeighborsClassifier())\n\u001B[0;32m      3\u001B[0m models \u001B[38;5;241m=\u001B[39m [DecisionTreeClassifier(), KNN, KNN2]\n",
      "\u001B[1;31mNameError\u001B[0m: name 'make_pipeline' is not defined"
     ]
    }
   ],
   "execution_count": 4
  },
  {
   "metadata": {
    "ExecuteTime": {
     "end_time": "2024-05-19T23:01:37.060844Z",
     "start_time": "2024-05-19T23:01:37.017845Z"
    }
   },
   "cell_type": "code",
   "source": [
    "results = pd.read_csv(\"results.csv\")\n",
    "avg_rank = results.groupby('dataset').score.rank(pct=True).groupby(results.model).mean()\n",
    "avg_rank"
   ],
   "id": "4cc41617ce10c5ea",
   "outputs": [
    {
     "ename": "NameError",
     "evalue": "name 'pd' is not defined",
     "output_type": "error",
     "traceback": [
      "\u001B[1;31m---------------------------------------------------------------------------\u001B[0m",
      "\u001B[1;31mNameError\u001B[0m                                 Traceback (most recent call last)",
      "Cell \u001B[1;32mIn[5], line 1\u001B[0m\n\u001B[1;32m----> 1\u001B[0m results \u001B[38;5;241m=\u001B[39m \u001B[43mpd\u001B[49m\u001B[38;5;241m.\u001B[39mread_csv(\u001B[38;5;124m\"\u001B[39m\u001B[38;5;124mresults.csv\u001B[39m\u001B[38;5;124m\"\u001B[39m)\n\u001B[0;32m      2\u001B[0m avg_rank \u001B[38;5;241m=\u001B[39m results\u001B[38;5;241m.\u001B[39mgroupby(\u001B[38;5;124m'\u001B[39m\u001B[38;5;124mdataset\u001B[39m\u001B[38;5;124m'\u001B[39m)\u001B[38;5;241m.\u001B[39mscore\u001B[38;5;241m.\u001B[39mrank(pct\u001B[38;5;241m=\u001B[39m\u001B[38;5;28;01mTrue\u001B[39;00m)\u001B[38;5;241m.\u001B[39mgroupby(results\u001B[38;5;241m.\u001B[39mmodel)\u001B[38;5;241m.\u001B[39mmean()\n\u001B[0;32m      3\u001B[0m avg_rank\n",
      "\u001B[1;31mNameError\u001B[0m: name 'pd' is not defined"
     ]
    }
   ],
   "execution_count": 5
  },
  {
   "metadata": {
    "ExecuteTime": {
     "end_time": "2024-05-19T23:01:37.107846Z",
     "start_time": "2024-05-19T23:01:37.064846Z"
    }
   },
   "cell_type": "code",
   "source": "results",
   "id": "55d697cef2f64fe5",
   "outputs": [
    {
     "ename": "NameError",
     "evalue": "name 'results' is not defined",
     "output_type": "error",
     "traceback": [
      "\u001B[1;31m---------------------------------------------------------------------------\u001B[0m",
      "\u001B[1;31mNameError\u001B[0m                                 Traceback (most recent call last)",
      "Cell \u001B[1;32mIn[6], line 1\u001B[0m\n\u001B[1;32m----> 1\u001B[0m \u001B[43mresults\u001B[49m\n",
      "\u001B[1;31mNameError\u001B[0m: name 'results' is not defined"
     ]
    }
   ],
   "execution_count": 6
  },
  {
   "metadata": {
    "ExecuteTime": {
     "end_time": "2024-05-19T23:01:37.249846Z",
     "start_time": "2024-05-19T23:01:37.195847Z"
    }
   },
   "cell_type": "code",
   "source": "ss.friedmanchisquare(results.loc[results[\"model\"]==\"KNN\",:][[\"score\"]], results.loc[results[\"model\"]==\"KNN\",:][[\"score\"]])",
   "id": "3ad2faa3916f22bc",
   "outputs": [
    {
     "ename": "NameError",
     "evalue": "name 'ss' is not defined",
     "output_type": "error",
     "traceback": [
      "\u001B[1;31m---------------------------------------------------------------------------\u001B[0m",
      "\u001B[1;31mNameError\u001B[0m                                 Traceback (most recent call last)",
      "Cell \u001B[1;32mIn[7], line 1\u001B[0m\n\u001B[1;32m----> 1\u001B[0m \u001B[43mss\u001B[49m\u001B[38;5;241m.\u001B[39mfriedmanchisquare(results\u001B[38;5;241m.\u001B[39mloc[results[\u001B[38;5;124m\"\u001B[39m\u001B[38;5;124mmodel\u001B[39m\u001B[38;5;124m\"\u001B[39m]\u001B[38;5;241m==\u001B[39m\u001B[38;5;124m\"\u001B[39m\u001B[38;5;124mDT\u001B[39m\u001B[38;5;124m\"\u001B[39m,:][[\u001B[38;5;124m\"\u001B[39m\u001B[38;5;124mscore\u001B[39m\u001B[38;5;124m\"\u001B[39m]], results\u001B[38;5;241m.\u001B[39mloc[results[\u001B[38;5;124m\"\u001B[39m\u001B[38;5;124mmodel\u001B[39m\u001B[38;5;124m\"\u001B[39m]\u001B[38;5;241m==\u001B[39m\u001B[38;5;124m\"\u001B[39m\u001B[38;5;124mLR\u001B[39m\u001B[38;5;124m\"\u001B[39m,:][[\u001B[38;5;124m\"\u001B[39m\u001B[38;5;124mscore\u001B[39m\u001B[38;5;124m\"\u001B[39m]], results\u001B[38;5;241m.\u001B[39mloc[results[\u001B[38;5;124m\"\u001B[39m\u001B[38;5;124mmodel\u001B[39m\u001B[38;5;124m\"\u001B[39m]\u001B[38;5;241m==\u001B[39m\u001B[38;5;124m\"\u001B[39m\u001B[38;5;124mKNN\u001B[39m\u001B[38;5;124m\"\u001B[39m,:][[\u001B[38;5;124m\"\u001B[39m\u001B[38;5;124mscore\u001B[39m\u001B[38;5;124m\"\u001B[39m]])\n",
      "\u001B[1;31mNameError\u001B[0m: name 'ss' is not defined"
     ]
    }
   ],
   "execution_count": 7
  },
  {
   "metadata": {
    "ExecuteTime": {
     "end_time": "2024-05-19T23:01:37.345844Z",
     "start_time": "2024-05-19T23:01:37.309845Z"
    }
   },
   "cell_type": "code",
   "source": [
    "test_results = sp.posthoc_conover_friedman(\n",
    "    results,\n",
    "    melted=True,\n",
    "    block_col='dataset',\n",
    "    group_col='model',\n",
    "    y_col='score',\n",
    ")\n",
    "sp.sign_plot(test_results)"
   ],
   "id": "1f73c12b5eacff7a",
   "outputs": [
    {
     "ename": "NameError",
     "evalue": "name 'sp' is not defined",
     "output_type": "error",
     "traceback": [
      "\u001B[1;31m---------------------------------------------------------------------------\u001B[0m",
      "\u001B[1;31mNameError\u001B[0m                                 Traceback (most recent call last)",
      "Cell \u001B[1;32mIn[8], line 1\u001B[0m\n\u001B[1;32m----> 1\u001B[0m test_results \u001B[38;5;241m=\u001B[39m \u001B[43msp\u001B[49m\u001B[38;5;241m.\u001B[39mposthoc_conover_friedman(\n\u001B[0;32m      2\u001B[0m     results,\n\u001B[0;32m      3\u001B[0m     melted\u001B[38;5;241m=\u001B[39m\u001B[38;5;28;01mTrue\u001B[39;00m,\n\u001B[0;32m      4\u001B[0m     block_col\u001B[38;5;241m=\u001B[39m\u001B[38;5;124m'\u001B[39m\u001B[38;5;124mdataset\u001B[39m\u001B[38;5;124m'\u001B[39m,\n\u001B[0;32m      5\u001B[0m     group_col\u001B[38;5;241m=\u001B[39m\u001B[38;5;124m'\u001B[39m\u001B[38;5;124mmodel\u001B[39m\u001B[38;5;124m'\u001B[39m,\n\u001B[0;32m      6\u001B[0m     y_col\u001B[38;5;241m=\u001B[39m\u001B[38;5;124m'\u001B[39m\u001B[38;5;124mscore\u001B[39m\u001B[38;5;124m'\u001B[39m,\n\u001B[0;32m      7\u001B[0m )\n\u001B[0;32m      8\u001B[0m sp\u001B[38;5;241m.\u001B[39msign_plot(test_results)\n",
      "\u001B[1;31mNameError\u001B[0m: name 'sp' is not defined"
     ]
    }
   ],
   "execution_count": 8
  },
  {
   "metadata": {
    "ExecuteTime": {
     "end_time": "2024-05-19T23:01:37.423845Z",
     "start_time": "2024-05-19T23:01:37.393846Z"
    }
   },
   "cell_type": "code",
   "source": [
    "#Calcular a accuracy\n",
    "acc = accuracy(y_test, y_pred)\n",
    "print(\"Accuracy: \", acc)"
   ],
   "id": "8ef86eb56eb2bdfb",
   "outputs": [],
   "execution_count": null
  },
  {
   "metadata": {},
   "cell_type": "code",
   "outputs": [
    {
     "ename": "NameError",
     "evalue": "name 'accuracy' is not defined",
     "output_type": "error",
     "traceback": [
      "\u001B[1;31m---------------------------------------------------------------------------\u001B[0m",
      "\u001B[1;31mNameError\u001B[0m                                 Traceback (most recent call last)",
      "Cell \u001B[1;32mIn[9], line 2\u001B[0m\n\u001B[0;32m      1\u001B[0m \u001B[38;5;66;03m#Calcular a accuracy\u001B[39;00m\n\u001B[1;32m----> 2\u001B[0m acc \u001B[38;5;241m=\u001B[39m \u001B[43maccuracy\u001B[49m(y_test, y_pred)\n\u001B[0;32m      3\u001B[0m \u001B[38;5;28mprint\u001B[39m(\u001B[38;5;124m\"\u001B[39m\u001B[38;5;124mAccuracy: \u001B[39m\u001B[38;5;124m\"\u001B[39m, acc)\n",
      "\u001B[1;31mNameError\u001B[0m: name 'accuracy' is not defined"
     ]
    }
   ],
   "execution_count": 9,
   "source": [
    "def plot_cv(results_cv,metric='Accuracy'):\n",
    "    fig, ax = plt.subplots()\n",
    "    ax.boxplot(results_cv)\n",
    "    ax.set_xticklabels(results_cv.columns)\n",
    "    ax.set_ylabel(metric)\n",
    "    ax.set_title('Cross-validation results for KNN and KNN2 in a dataset')\n",
    "    plt.show()"
   ],
   "id": "c28956b2b64345d5"
  },
  {
   "metadata": {
    "ExecuteTime": {
     "end_time": "2024-05-19T23:01:37.487845Z",
     "start_time": "2024-05-19T23:01:37.443845Z"
    }
   },
   "cell_type": "code",
   "source": [
    "# Calcular o F1 score\n",
    "f1 = f1_score(y_test, y_pred, average='weighted')\n",
    "print(\"F1 Score: \", f1)"
   ],
   "id": "62f93a947a9bc092",
   "outputs": [
    {
     "ename": "NameError",
     "evalue": "name 'f1_score' is not defined",
     "output_type": "error",
     "traceback": [
      "\u001B[1;31m---------------------------------------------------------------------------\u001B[0m",
      "\u001B[1;31mNameError\u001B[0m                                 Traceback (most recent call last)",
      "Cell \u001B[1;32mIn[10], line 2\u001B[0m\n\u001B[0;32m      1\u001B[0m \u001B[38;5;66;03m# Calcular o F1 score\u001B[39;00m\n\u001B[1;32m----> 2\u001B[0m f1 \u001B[38;5;241m=\u001B[39m \u001B[43mf1_score\u001B[49m(y_test, y_pred, average\u001B[38;5;241m=\u001B[39m\u001B[38;5;124m'\u001B[39m\u001B[38;5;124mweighted\u001B[39m\u001B[38;5;124m'\u001B[39m)\n\u001B[0;32m      3\u001B[0m \u001B[38;5;28mprint\u001B[39m(\u001B[38;5;124m\"\u001B[39m\u001B[38;5;124mF1 Score: \u001B[39m\u001B[38;5;124m\"\u001B[39m, f1)\n",
      "\u001B[1;31mNameError\u001B[0m: name 'f1_score' is not defined"
     ]
    }
   ],
   "execution_count": 10
  },
  {
   "metadata": {
    "ExecuteTime": {
     "end_time": "2024-05-19T23:01:37.565845Z",
     "start_time": "2024-05-19T23:01:37.522846Z"
    }
   },
   "cell_type": "code",
   "source": [
    "# Calcular e imprimir a precisão (precision), recall e F1 score para cada classe\n",
    "precision = precision_score(y_test, y_pred, average=None)\n",
    "recall = recall_score(y_test, y_pred, average=None)\n",
    "f1_per_class = 2 * (precision * recall) / (precision + recall)\n",
    "print(\"Precision per class: \", precision)\n",
    "print(\"Recall per class: \", recall)\n",
    "print(\"F1 Score per class: \", f1_per_class)"
   ],
   "id": "initial_id",
   "outputs": [
    {
     "ename": "NameError",
     "evalue": "name 'precision_score' is not defined",
     "output_type": "error",
     "traceback": [
      "\u001B[1;31m---------------------------------------------------------------------------\u001B[0m",
      "\u001B[1;31mNameError\u001B[0m                                 Traceback (most recent call last)",
      "Cell \u001B[1;32mIn[11], line 2\u001B[0m\n\u001B[0;32m      1\u001B[0m \u001B[38;5;66;03m# Calcular e imprimir a precisão (precision), recall e F1 score para cada classe\u001B[39;00m\n\u001B[1;32m----> 2\u001B[0m precision \u001B[38;5;241m=\u001B[39m \u001B[43mprecision_score\u001B[49m(y_test, y_pred, average\u001B[38;5;241m=\u001B[39m\u001B[38;5;28;01mNone\u001B[39;00m)\n\u001B[0;32m      3\u001B[0m recall \u001B[38;5;241m=\u001B[39m recall_score(y_test, y_pred, average\u001B[38;5;241m=\u001B[39m\u001B[38;5;28;01mNone\u001B[39;00m)\n\u001B[0;32m      4\u001B[0m f1_per_class \u001B[38;5;241m=\u001B[39m \u001B[38;5;241m2\u001B[39m \u001B[38;5;241m*\u001B[39m (precision \u001B[38;5;241m*\u001B[39m recall) \u001B[38;5;241m/\u001B[39m (precision \u001B[38;5;241m+\u001B[39m recall)\n",
      "\u001B[1;31mNameError\u001B[0m: name 'precision_score' is not defined"
     ]
    }
   ],
   "execution_count": 11
  }
 ],
 "metadata": {
  "kernelspec": {
   "display_name": "Python 3",
   "language": "python",
   "name": "python3"
  },
  "language_info": {
   "codemirror_mode": {
    "name": "ipython",
    "version": 2
   },
   "file_extension": ".py",
   "mimetype": "text/x-python",
   "name": "python",
   "nbconvert_exporter": "python",
   "pygments_lexer": "ipython2",
   "version": "2.7.6"
  }
 },
 "nbformat": 4,
 "nbformat_minor": 5
}
