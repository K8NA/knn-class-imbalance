{
 "cells": [
  {
   "metadata": {},
   "cell_type": "markdown",
   "source": [
    "PRACTICAL ASSIGNMENT ML I: \n",
    "Altering the KNN algorithm by assigning weights to datapoints in order to improve the F1-score metric of binary classification targets in heavily imbalanced numeric datasets."
   ],
   "id": "bf5901a7a62c5853"
  },
  {
   "metadata": {},
   "cell_type": "code",
   "source": [
    "import openml\n",
    "import warnings\n",
    "\n",
    "from mla.knn import KNNClassifier\n",
    "from mla.metrics import accuracy\n",
    "\n",
    "from wei import KNNClassifier as clas\n",
    "from wei import KNNRegressor as res\n",
    "\n",
    "from sklearn.model_selection import train_test_split\n",
    "from sklearn.model_selection import cross_val_score\n",
    "from sklearn.metrics import f1_score, recall_score, precision_score\n",
    "from sklearn.neighbors import KNeighborsClassifier\n",
    "from sklearn.pipeline import make_pipeline\n",
    "from sklearn.preprocessing import StandardScaler\n",
    "from sklearn.impute import SimpleImputer\n",
    "\n",
    "import pandas as pd\n",
    "import numpy as np\n",
    "import scipy.stats as ss\n",
    "import scikit_posthocs as sp\n",
    "import matplotlib.pyplot as plt"
   ],
   "id": "e4b53214eaef7184",
   "execution_count": null,
   "outputs": []
  },
  {
   "metadata": {},
   "cell_type": "code",
   "source": [
    "#Suprimir avisos futuros \n",
    "warnings.simplefilter(action='ignore', category=FutureWarning)"
   ],
   "id": "4b77c1d022d1c2a3",
   "execution_count": null,
   "outputs": []
  },
  {
   "metadata": {},
   "cell_type": "code",
   "source": [
    "#Carregar dataset\n",
    "dataset = openml.datasets.get_dataset(1464, download_data=True)\n",
    "X, y, _, _ = dataset.get_data(target=dataset.default_target_attribute)"
   ],
   "id": "3093f51278bfbc7c",
   "execution_count": null,
   "outputs": []
  },
  {
   "metadata": {},
   "cell_type": "code",
   "source": [
    "#Dividir em sets de treino e de teste\n",
    "X_train, X_test, y_train, y_test = train_test_split(X, y, test_size=0.2, random_state=222)"
   ],
   "id": "7c5cc125805a5119",
   "execution_count": null,
   "outputs": []
  },
  {
   "metadata": {},
   "cell_type": "code",
   "source": [
    "#Inicializar o classificador KNN \n",
    "knn = KNNClassifier(k=5)"
   ],
   "id": "edd3ab96040baf52",
   "execution_count": null,
   "outputs": []
  },
  {
   "metadata": {},
   "cell_type": "code",
   "source": [
    "#Treino\n",
    "knn.fit(X_train, y_train)"
   ],
   "id": "87cd1fc68d73d83d",
   "execution_count": null,
   "outputs": []
  },
  {
   "metadata": {},
   "cell_type": "code",
   "source": [
    "#Predição\n",
    "y_pred = knn.predict(X_test)"
   ],
   "id": "af3985b4baeefab8",
   "execution_count": null,
   "outputs": []
  },
  {
   "metadata": {},
   "cell_type": "code",
   "source": [
    "#Calcular a accuracy\n",
    "acc = accuracy(y_test, y_pred)\n",
    "print(\"Accuracy: \", acc)"
   ],
   "id": "8ef86eb56eb2bdfb",
   "execution_count": null,
   "outputs": []
  },
  {
   "metadata": {},
   "cell_type": "code",
   "source": [
    "# Calcular o F1 score\n",
    "f1 = f1_score(y_test, y_pred, average='weighted')\n",
    "print(\"F1 Score: \", f1)"
   ],
   "id": "62f93a947a9bc092",
   "execution_count": null,
   "outputs": []
  },
  {
   "metadata": {},
   "cell_type": "code",
   "source": [
    "# Calcular e imprimir a precisão (precision), recall e F1 score para cada classe\n",
    "precision = precision_score(y_test, y_pred, average=None)\n",
    "recall = recall_score(y_test, y_pred, average=None)\n",
    "f1_per_class = 2 * (precision * recall) / (precision + recall)\n",
    "print(\"Precision per class: \", precision)\n",
    "print(\"Recall per class: \", recall)\n",
    "print(\"F1 Score per class: \", f1_per_class)"
   ],
   "id": "initial_id",
   "execution_count": null,
   "outputs": []
  }
 ],
 "metadata": {
  "kernelspec": {
   "display_name": "Python 3",
   "language": "python",
   "name": "python3"
  },
  "language_info": {
   "codemirror_mode": {
    "name": "ipython",
    "version": 2
   },
   "file_extension": ".py",
   "mimetype": "text/x-python",
   "name": "python",
   "nbconvert_exporter": "python",
   "pygments_lexer": "ipython2",
   "version": "2.7.6"
  }
 },
 "nbformat": 4,
 "nbformat_minor": 5
}
