{
 "cells": [
  {
   "cell_type": "code",
   "execution_count": null,
   "id": "12b2d9b2-a034-4964-b507-94e810d3a8fc",
   "metadata": {},
   "outputs": [],
   "source": [
    "PRACTICAL ASSIGNMENT ML I"
   ]
  }
 ],
 "metadata": {
  "kernelspec": {
   "display_name": "anaconda-panel-2023.05-py310",
   "language": "python",
   "name": "conda-env-anaconda-panel-2023.05-py310-py"
  },
  "language_info": {
   "codemirror_mode": {
    "name": "ipython",
    "version": 3
   },
   "file_extension": ".py",
   "mimetype": "text/x-python",
   "name": "python",
   "nbconvert_exporter": "python",
   "pygments_lexer": "ipython3",
   "version": "3.11.5"
  }
 },
 "nbformat": 4,
 "nbformat_minor": 5
}
